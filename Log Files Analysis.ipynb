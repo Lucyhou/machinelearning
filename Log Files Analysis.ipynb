{
 "cells": [
  {
   "cell_type": "markdown",
   "metadata": {},
   "source": [
    "# GOAL"
   ]
  },
  {
   "cell_type": "markdown",
   "metadata": {},
   "source": [
    "The goal of this challenge is:\n",
    "\n",
    "1) discover the story behind the data.\n",
    "\n",
    "2) make suggestions."
   ]
  },
  {
   "cell_type": "markdown",
   "metadata": {},
   "source": [
    "# Challenge Description\n"
   ]
  },
  {
   "cell_type": "markdown",
   "metadata": {},
   "source": [
    "•\tData anomaly?\n",
    "\n",
    "•\tWhat’s the average number of files created per user, or per day?\n",
    "\n",
    "•\tWhat’s the average lifespan of a file? \n",
    "\n",
    "•\tWhat’s the distribution of file update period?\n",
    "\n",
    "•\tDoes the version column provide any insights into user behavior or a predicts how soon after creation the file is updated?\n",
    "\n",
    "•\tWhat more information would you require to drive more insights from this dataset?"
   ]
  },
  {
   "cell_type": "markdown",
   "metadata": {},
   "source": [
    "# Data"
   ]
  },
  {
   "cell_type": "markdown",
   "metadata": {},
   "source": [
    "•\tFILE_ID : a unique identifier of the file\n",
    "\n",
    "•\tUSER : user_id whom the file belongs to\n",
    "\n",
    "•\tCREATED : Date on which the file was created\n",
    "\n",
    "•\tUPDATE : Date on which the file was last updated\n",
    "\n",
    "•\tDELETED : Date on which the file was deleted\n",
    "\n",
    "•\tVERSION : file version number, or number of times the file was updated"
   ]
  },
  {
   "cell_type": "markdown",
   "metadata": {},
   "source": [
    "# Data Processing"
   ]
  },
  {
   "cell_type": "code",
   "execution_count": 1,
   "metadata": {},
   "outputs": [
    {
     "name": "stderr",
     "output_type": "stream",
     "text": [
      "C:\\Users\\wenfe\\Anaconda3\\lib\\site-packages\\ipykernel_launcher.py:8: ParserWarning: Falling back to the 'python' engine because the 'c' engine does not support regex separators (separators > 1 char and different from '\\s+' are interpreted as regex); you can avoid this warning by specifying engine='python'.\n",
      "  \n"
     ]
    },
    {
     "data": {
      "text/html": [
       "<div>\n",
       "<style>\n",
       "    .dataframe thead tr:only-child th {\n",
       "        text-align: right;\n",
       "    }\n",
       "\n",
       "    .dataframe thead th {\n",
       "        text-align: left;\n",
       "    }\n",
       "\n",
       "    .dataframe tbody tr th {\n",
       "        vertical-align: top;\n",
       "    }\n",
       "</style>\n",
       "<table border=\"1\" class=\"dataframe\">\n",
       "  <thead>\n",
       "    <tr style=\"text-align: right;\">\n",
       "      <th></th>\n",
       "      <th>FILE_ID</th>\n",
       "      <th>USER</th>\n",
       "      <th>CREATED</th>\n",
       "      <th>UPDATED</th>\n",
       "      <th>DELETED</th>\n",
       "      <th>VERSION</th>\n",
       "    </tr>\n",
       "  </thead>\n",
       "  <tbody>\n",
       "    <tr>\n",
       "      <th>0</th>\n",
       "      <td>rrT0615</td>\n",
       "      <td>3633870</td>\n",
       "      <td>2019-08-01</td>\n",
       "      <td>2019-08-14</td>\n",
       "      <td>NaN</td>\n",
       "      <td>26</td>\n",
       "    </tr>\n",
       "    <tr>\n",
       "      <th>1</th>\n",
       "      <td>rrT0625</td>\n",
       "      <td>2853751</td>\n",
       "      <td>2019-08-01</td>\n",
       "      <td>2019-11-19</td>\n",
       "      <td>1970-01-01</td>\n",
       "      <td>26</td>\n",
       "    </tr>\n",
       "    <tr>\n",
       "      <th>2</th>\n",
       "      <td>rrT0630</td>\n",
       "      <td>2538826</td>\n",
       "      <td>2019-08-01</td>\n",
       "      <td>2019-09-28</td>\n",
       "      <td>NaN</td>\n",
       "      <td>2</td>\n",
       "    </tr>\n",
       "    <tr>\n",
       "      <th>3</th>\n",
       "      <td>rrT0635</td>\n",
       "      <td>1642941</td>\n",
       "      <td>2019-08-01</td>\n",
       "      <td>2019-12-05</td>\n",
       "      <td>NaN</td>\n",
       "      <td>5</td>\n",
       "    </tr>\n",
       "    <tr>\n",
       "      <th>4</th>\n",
       "      <td>rrT0640</td>\n",
       "      <td>3635605</td>\n",
       "      <td>2019-08-01</td>\n",
       "      <td>2019-10-13</td>\n",
       "      <td>2019-10-13</td>\n",
       "      <td>1</td>\n",
       "    </tr>\n",
       "  </tbody>\n",
       "</table>\n",
       "</div>"
      ],
      "text/plain": [
       "   FILE_ID     USER     CREATED     UPDATED     DELETED VERSION\n",
       "0  rrT0615  3633870  2019-08-01  2019-08-14         NaN      26\n",
       "1  rrT0625  2853751  2019-08-01  2019-11-19  1970-01-01      26\n",
       "2  rrT0630  2538826  2019-08-01  2019-09-28         NaN       2\n",
       "3  rrT0635  1642941  2019-08-01  2019-12-05         NaN       5\n",
       "4  rrT0640  3635605  2019-08-01  2019-10-13  2019-10-13       1"
      ]
     },
     "execution_count": 1,
     "metadata": {},
     "output_type": "execute_result"
    }
   ],
   "source": [
    "import pandas as pd\n",
    "import numpy as np\n",
    "import re\n",
    "import seaborn as sns\n",
    "import matplotlib.pyplot as plt\n",
    "import datetime as dt\n",
    "\n",
    "data1=pd.read_csv('data_analyst_assignment.csv', sep=\"[||/]\")\n",
    "data2=data1[[\"FILE_ID\",\"USER\",\"CREATED\",\"UPDATED\",\"DELETED\",\"VERSION\"]]\n",
    "data2.head()#5rows"
   ]
  },
  {
   "cell_type": "code",
   "execution_count": 2,
   "metadata": {},
   "outputs": [
    {
     "name": "stdout",
     "output_type": "stream",
     "text": [
      "<class 'pandas.core.frame.DataFrame'>\n",
      "RangeIndex: 102133 entries, 0 to 102132\n",
      "Data columns (total 6 columns):\n",
      "FILE_ID    102133 non-null object\n",
      "USER       102129 non-null object\n",
      "CREATED    102133 non-null object\n",
      "UPDATED    102133 non-null object\n",
      "DELETED    28338 non-null object\n",
      "VERSION    102103 non-null object\n",
      "dtypes: object(6)\n",
      "memory usage: 4.7+ MB\n"
     ]
    }
   ],
   "source": [
    "data2.info()"
   ]
  },
  {
   "cell_type": "code",
   "execution_count": 3,
   "metadata": {},
   "outputs": [
    {
     "data": {
      "text/plain": [
       "FILE_ID    102133\n",
       "USER       102129\n",
       "CREATED    102133\n",
       "UPDATED    102133\n",
       "DELETED     28338\n",
       "VERSION    102103\n",
       "dtype: int64"
      ]
     },
     "execution_count": 3,
     "metadata": {},
     "output_type": "execute_result"
    }
   ],
   "source": [
    "data2.count()"
   ]
  },
  {
   "cell_type": "code",
   "execution_count": 4,
   "metadata": {},
   "outputs": [
    {
     "data": {
      "text/html": [
       "<div>\n",
       "<style>\n",
       "    .dataframe thead tr:only-child th {\n",
       "        text-align: right;\n",
       "    }\n",
       "\n",
       "    .dataframe thead th {\n",
       "        text-align: left;\n",
       "    }\n",
       "\n",
       "    .dataframe tbody tr th {\n",
       "        vertical-align: top;\n",
       "    }\n",
       "</style>\n",
       "<table border=\"1\" class=\"dataframe\">\n",
       "  <thead>\n",
       "    <tr style=\"text-align: right;\">\n",
       "      <th></th>\n",
       "      <th>FILE_ID</th>\n",
       "      <th>USER</th>\n",
       "      <th>CREATED</th>\n",
       "      <th>UPDATED</th>\n",
       "      <th>DELETED</th>\n",
       "      <th>VERSION</th>\n",
       "    </tr>\n",
       "  </thead>\n",
       "  <tbody>\n",
       "    <tr>\n",
       "      <th>count</th>\n",
       "      <td>102133</td>\n",
       "      <td>102129</td>\n",
       "      <td>102133</td>\n",
       "      <td>102133</td>\n",
       "      <td>28338</td>\n",
       "      <td>102103</td>\n",
       "    </tr>\n",
       "    <tr>\n",
       "      <th>unique</th>\n",
       "      <td>102133</td>\n",
       "      <td>10035</td>\n",
       "      <td>92</td>\n",
       "      <td>188</td>\n",
       "      <td>189</td>\n",
       "      <td>420</td>\n",
       "    </tr>\n",
       "    <tr>\n",
       "      <th>top</th>\n",
       "      <td>18684520</td>\n",
       "      <td>3282991</td>\n",
       "      <td>2019-08-13</td>\n",
       "      <td>2019-08-13</td>\n",
       "      <td>2019-10-25</td>\n",
       "      <td>1</td>\n",
       "    </tr>\n",
       "    <tr>\n",
       "      <th>freq</th>\n",
       "      <td>1</td>\n",
       "      <td>6038</td>\n",
       "      <td>5123</td>\n",
       "      <td>4405</td>\n",
       "      <td>474</td>\n",
       "      <td>27476</td>\n",
       "    </tr>\n",
       "  </tbody>\n",
       "</table>\n",
       "</div>"
      ],
      "text/plain": [
       "         FILE_ID     USER     CREATED     UPDATED     DELETED VERSION\n",
       "count     102133   102129      102133      102133       28338  102103\n",
       "unique    102133    10035          92         188         189     420\n",
       "top     18684520  3282991  2019-08-13  2019-08-13  2019-10-25       1\n",
       "freq           1     6038        5123        4405         474   27476"
      ]
     },
     "execution_count": 4,
     "metadata": {},
     "output_type": "execute_result"
    }
   ],
   "source": [
    "data2.describe()"
   ]
  },
  {
   "cell_type": "code",
   "execution_count": 5,
   "metadata": {},
   "outputs": [
    {
     "data": {
      "text/plain": [
       "102133"
      ]
     },
     "execution_count": 5,
     "metadata": {},
     "output_type": "execute_result"
    }
   ],
   "source": [
    "len(data2.FILE_ID.unique())"
   ]
  },
  {
   "cell_type": "code",
   "execution_count": 225,
   "metadata": {},
   "outputs": [
    {
     "data": {
      "text/plain": [
       "10.176664009565563"
      ]
     },
     "execution_count": 225,
     "metadata": {},
     "output_type": "execute_result"
    }
   ],
   "source": [
    "len(data2.FILE_ID.unique())/len(data2.USER.unique())"
   ]
  },
  {
   "cell_type": "code",
   "execution_count": 6,
   "metadata": {},
   "outputs": [
    {
     "data": {
      "text/html": [
       "<div>\n",
       "<style>\n",
       "    .dataframe thead tr:only-child th {\n",
       "        text-align: right;\n",
       "    }\n",
       "\n",
       "    .dataframe thead th {\n",
       "        text-align: left;\n",
       "    }\n",
       "\n",
       "    .dataframe tbody tr th {\n",
       "        vertical-align: top;\n",
       "    }\n",
       "</style>\n",
       "<table border=\"1\" class=\"dataframe\">\n",
       "  <thead>\n",
       "    <tr style=\"text-align: right;\">\n",
       "      <th></th>\n",
       "      <th>FILE_ID</th>\n",
       "      <th>USER</th>\n",
       "      <th>CREATED</th>\n",
       "      <th>UPDATED</th>\n",
       "      <th>DELETED</th>\n",
       "      <th>VERSION</th>\n",
       "    </tr>\n",
       "  </thead>\n",
       "  <tbody>\n",
       "    <tr>\n",
       "      <th>0</th>\n",
       "      <td>rrT0615</td>\n",
       "      <td>3633870</td>\n",
       "      <td>2019-08-01</td>\n",
       "      <td>2019-08-14</td>\n",
       "      <td>NaN</td>\n",
       "      <td>26</td>\n",
       "    </tr>\n",
       "  </tbody>\n",
       "</table>\n",
       "</div>"
      ],
      "text/plain": [
       "   FILE_ID     USER     CREATED     UPDATED DELETED VERSION\n",
       "0  rrT0615  3633870  2019-08-01  2019-08-14     NaN      26"
      ]
     },
     "execution_count": 6,
     "metadata": {},
     "output_type": "execute_result"
    }
   ],
   "source": [
    "data2.head(1)"
   ]
  },
  {
   "cell_type": "code",
   "execution_count": 7,
   "metadata": {},
   "outputs": [
    {
     "data": {
      "text/plain": [
       "array([nan, '1970-01-01', '2019-10-13', '2019-11-08', '2019-08-01',\n",
       "       '2019-10-14', '2019-08-04', '2019-10-18', '2019-10-23',\n",
       "       '2019-08-06', '2019-12-27', '2019-11-05', '2019-11-01',\n",
       "       '2019-08-05', '2019-11-29', '2019-08-12', '2019-10-22',\n",
       "       '2019-09-24', '2019-10-17', '2019-11-04', '2019-09-13',\n",
       "       '2019-11-02', '2019-08-02', '2019-08-30', '2019-12-16',\n",
       "       '2019-08-03', '2019-10-15', '2019-11-17', '2019-10-25',\n",
       "       '2019-08-27', '2019-12-09', '2019-08-13', '2019-09-04',\n",
       "       '2019-09-06', '2019-09-16', '2019-09-09', '2019-08-07',\n",
       "       '2020-01-28', '2020-02-03', '2019-10-07', '2019-10-11',\n",
       "       '2019-10-29', '2019-11-27', '2019-12-13', '2019-12-03',\n",
       "       '2019-12-14', '2019-08-22', '2019-10-21', '2019-08-19',\n",
       "       '2020-01-07', '2019-12-20', '2019-11-06', '2019-11-14',\n",
       "       '2019-11-12', '2019-08-23', '2019-08-16', '2019-09-30',\n",
       "       '2019-12-17', '2019-10-30', '2019-08-29', '2019-12-12',\n",
       "       '2019-08-14', '2019-09-26', '2019-09-20', '2019-12-18',\n",
       "       '2020-02-04', '2019-09-18', '2019-10-16', '2019-08-08',\n",
       "       '2019-08-11', '2019-08-17', '2019-08-26', '2019-08-20',\n",
       "       '2019-12-26', '2019-08-09', '2019-10-05', '2019-09-10',\n",
       "       '2020-01-30', '2020-01-22', '2019-08-15', '2019-12-02',\n",
       "       '2019-11-10', '2019-11-26', '2019-12-10', '2019-09-17',\n",
       "       '2019-11-03', '2020-01-18', '2019-10-26', '2019-09-05',\n",
       "       '2019-09-11', '2019-11-23', '2019-11-25', '2019-10-04',\n",
       "       '2019-09-23', '2019-11-19', '2019-10-10', '2019-10-01',\n",
       "       '2019-12-22', '2019-10-03', '2019-12-24', '2019-10-27',\n",
       "       '2019-11-15', '2019-12-11', '2020-01-13', '2019-10-31',\n",
       "       '2019-08-28', '2019-11-20', '2019-12-08', '2019-12-15',\n",
       "       '2019-12-23', '2019-09-12', '2019-09-02', '2019-10-12',\n",
       "       '2020-01-01', '2019-12-05', '2019-10-28', '2019-11-16',\n",
       "       '2019-10-09', '2019-11-24', '2019-12-31', '2019-08-18',\n",
       "       '2019-10-24', '2019-11-07', '2019-11-09', '2019-09-03',\n",
       "       '2020-01-16', '2020-01-31', '2019-10-20', '2019-08-10',\n",
       "       '2019-11-18', '2020-02-02', '2019-11-13', '2019-12-04',\n",
       "       '2019-11-11', '2019-12-07', '2020-01-04', '2019-12-25',\n",
       "       '2019-10-19', '2019-09-19', '2020-01-11', '2019-11-22',\n",
       "       '2020-01-23', '2019-09-01', '2019-11-21', '2020-01-29',\n",
       "       '2020-01-02', '2019-09-27', '2020-01-10', '2019-08-21',\n",
       "       '2019-12-06', '2019-11-28', '2019-12-01', '2019-10-08',\n",
       "       '2019-09-15', '2020-01-06', '2019-09-21', '2019-09-29',\n",
       "       '2019-12-21', '2019-09-08', '2020-01-15', '2019-09-07',\n",
       "       '2019-12-19', '2020-01-17', '2020-01-03', '2019-10-06',\n",
       "       '2019-08-24', '2020-01-08', '2019-12-30', '2020-01-05',\n",
       "       '2019-08-31', '2020-01-20', '2019-09-25', '2019-12-29',\n",
       "       '2019-08-25', '2019-10-02', '2019-11-30', '2019-09-22',\n",
       "       '2020-01-14', '2019-12-28', '2020-01-21', '2020-02-01',\n",
       "       '2020-01-27', '2020-01-19', '2019-09-28', '2020-01-24',\n",
       "       '2020-01-09', '2020-01-12', '2020-01-26', '2019-09-14',\n",
       "       '2020-01-25'], dtype=object)"
      ]
     },
     "execution_count": 7,
     "metadata": {},
     "output_type": "execute_result"
    }
   ],
   "source": [
    "data2.DELETED.unique()"
   ]
  },
  {
   "cell_type": "code",
   "execution_count": 8,
   "metadata": {},
   "outputs": [
    {
     "data": {
      "text/plain": [
       "0"
      ]
     },
     "execution_count": 8,
     "metadata": {},
     "output_type": "execute_result"
    }
   ],
   "source": [
    "len(data2[data2[\"UPDATED\"]<data2[\"CREATED\"]])"
   ]
  },
  {
   "cell_type": "code",
   "execution_count": 9,
   "metadata": {},
   "outputs": [
    {
     "data": {
      "text/plain": [
       "0"
      ]
     },
     "execution_count": 9,
     "metadata": {},
     "output_type": "execute_result"
    }
   ],
   "source": [
    "len(data2[\"2019-08-01\">data2[\"CREATED\"]])"
   ]
  },
  {
   "cell_type": "code",
   "execution_count": 10,
   "metadata": {},
   "outputs": [
    {
     "data": {
      "text/plain": [
       "0"
      ]
     },
     "execution_count": 10,
     "metadata": {},
     "output_type": "execute_result"
    }
   ],
   "source": [
    "len(data2[\"2019-12-31\"<data2[\"CREATED\"]])"
   ]
  },
  {
   "cell_type": "code",
   "execution_count": 11,
   "metadata": {},
   "outputs": [
    {
     "data": {
      "text/plain": [
       "259"
      ]
     },
     "execution_count": 11,
     "metadata": {},
     "output_type": "execute_result"
    }
   ],
   "source": [
    "len(data2[data2[\"DELETED\"]==\"1970-01-01\"])"
   ]
  },
  {
   "cell_type": "code",
   "execution_count": 12,
   "metadata": {},
   "outputs": [
    {
     "data": {
      "text/html": [
       "<div>\n",
       "<style>\n",
       "    .dataframe thead tr:only-child th {\n",
       "        text-align: right;\n",
       "    }\n",
       "\n",
       "    .dataframe thead th {\n",
       "        text-align: left;\n",
       "    }\n",
       "\n",
       "    .dataframe tbody tr th {\n",
       "        vertical-align: top;\n",
       "    }\n",
       "</style>\n",
       "<table border=\"1\" class=\"dataframe\">\n",
       "  <thead>\n",
       "    <tr style=\"text-align: right;\">\n",
       "      <th></th>\n",
       "      <th>FILE_ID</th>\n",
       "      <th>USER</th>\n",
       "      <th>CREATED</th>\n",
       "      <th>UPDATED</th>\n",
       "      <th>DELETED</th>\n",
       "      <th>VERSION</th>\n",
       "    </tr>\n",
       "  </thead>\n",
       "  <tbody>\n",
       "    <tr>\n",
       "      <th>1</th>\n",
       "      <td>rrT0625</td>\n",
       "      <td>2853751</td>\n",
       "      <td>2019-08-01</td>\n",
       "      <td>2019-11-19</td>\n",
       "      <td>1970-01-01</td>\n",
       "      <td>26</td>\n",
       "    </tr>\n",
       "    <tr>\n",
       "      <th>500</th>\n",
       "      <td>KLp3685</td>\n",
       "      <td>2728736</td>\n",
       "      <td>2019-08-01</td>\n",
       "      <td>2019-08-01</td>\n",
       "      <td>1970-01-01</td>\n",
       "      <td>2</td>\n",
       "    </tr>\n",
       "    <tr>\n",
       "      <th>569</th>\n",
       "      <td>KLp4075</td>\n",
       "      <td>3161776</td>\n",
       "      <td>2019-08-01</td>\n",
       "      <td>2019-12-09</td>\n",
       "      <td>1970-01-01</td>\n",
       "      <td>2</td>\n",
       "    </tr>\n",
       "    <tr>\n",
       "      <th>597</th>\n",
       "      <td>KLp4290</td>\n",
       "      <td>262451</td>\n",
       "      <td>2019-08-01</td>\n",
       "      <td>2019-08-21</td>\n",
       "      <td>1970-01-01</td>\n",
       "      <td>2</td>\n",
       "    </tr>\n",
       "    <tr>\n",
       "      <th>2482</th>\n",
       "      <td>ffR12445</td>\n",
       "      <td>43539</td>\n",
       "      <td>2019-08-02</td>\n",
       "      <td>2019-10-14</td>\n",
       "      <td>1970-01-01</td>\n",
       "      <td>3</td>\n",
       "    </tr>\n",
       "  </tbody>\n",
       "</table>\n",
       "</div>"
      ],
      "text/plain": [
       "       FILE_ID     USER     CREATED     UPDATED     DELETED VERSION\n",
       "1      rrT0625  2853751  2019-08-01  2019-11-19  1970-01-01      26\n",
       "500    KLp3685  2728736  2019-08-01  2019-08-01  1970-01-01       2\n",
       "569    KLp4075  3161776  2019-08-01  2019-12-09  1970-01-01       2\n",
       "597    KLp4290   262451  2019-08-01  2019-08-21  1970-01-01       2\n",
       "2482  ffR12445    43539  2019-08-02  2019-10-14  1970-01-01       3"
      ]
     },
     "execution_count": 12,
     "metadata": {},
     "output_type": "execute_result"
    }
   ],
   "source": [
    "data2[data2[\"DELETED\"]==\"1970-01-01\"].head()"
   ]
  },
  {
   "cell_type": "code",
   "execution_count": 13,
   "metadata": {},
   "outputs": [
    {
     "name": "stderr",
     "output_type": "stream",
     "text": [
      "C:\\Users\\wenfe\\Anaconda3\\lib\\site-packages\\pandas\\core\\indexing.py:179: SettingWithCopyWarning: \n",
      "A value is trying to be set on a copy of a slice from a DataFrame\n",
      "\n",
      "See the caveats in the documentation: http://pandas.pydata.org/pandas-docs/stable/indexing.html#indexing-view-versus-copy\n",
      "  self._setitem_with_indexer(indexer, value)\n",
      "C:\\Users\\wenfe\\Anaconda3\\lib\\site-packages\\ipykernel_launcher.py:1: SettingWithCopyWarning: \n",
      "A value is trying to be set on a copy of a slice from a DataFrame\n",
      "\n",
      "See the caveats in the documentation: http://pandas.pydata.org/pandas-docs/stable/indexing.html#indexing-view-versus-copy\n",
      "  \"\"\"Entry point for launching an IPython kernel.\n"
     ]
    }
   ],
   "source": [
    "data2.loc[data2.DELETED==\"1970-01-01\", 'DELETED'] = data2['UPDATED']"
   ]
  },
  {
   "cell_type": "code",
   "execution_count": 14,
   "metadata": {},
   "outputs": [
    {
     "data": {
      "text/html": [
       "<div>\n",
       "<style>\n",
       "    .dataframe thead tr:only-child th {\n",
       "        text-align: right;\n",
       "    }\n",
       "\n",
       "    .dataframe thead th {\n",
       "        text-align: left;\n",
       "    }\n",
       "\n",
       "    .dataframe tbody tr th {\n",
       "        vertical-align: top;\n",
       "    }\n",
       "</style>\n",
       "<table border=\"1\" class=\"dataframe\">\n",
       "  <thead>\n",
       "    <tr style=\"text-align: right;\">\n",
       "      <th></th>\n",
       "      <th>FILE_ID</th>\n",
       "      <th>USER</th>\n",
       "      <th>CREATED</th>\n",
       "      <th>UPDATED</th>\n",
       "      <th>DELETED</th>\n",
       "      <th>VERSION</th>\n",
       "    </tr>\n",
       "  </thead>\n",
       "  <tbody>\n",
       "    <tr>\n",
       "      <th>0</th>\n",
       "      <td>rrT0615</td>\n",
       "      <td>3633870</td>\n",
       "      <td>2019-08-01</td>\n",
       "      <td>2019-08-14</td>\n",
       "      <td>NaN</td>\n",
       "      <td>26</td>\n",
       "    </tr>\n",
       "    <tr>\n",
       "      <th>1</th>\n",
       "      <td>rrT0625</td>\n",
       "      <td>2853751</td>\n",
       "      <td>2019-08-01</td>\n",
       "      <td>2019-11-19</td>\n",
       "      <td>2019-11-19</td>\n",
       "      <td>26</td>\n",
       "    </tr>\n",
       "    <tr>\n",
       "      <th>2</th>\n",
       "      <td>rrT0630</td>\n",
       "      <td>2538826</td>\n",
       "      <td>2019-08-01</td>\n",
       "      <td>2019-09-28</td>\n",
       "      <td>NaN</td>\n",
       "      <td>2</td>\n",
       "    </tr>\n",
       "    <tr>\n",
       "      <th>3</th>\n",
       "      <td>rrT0635</td>\n",
       "      <td>1642941</td>\n",
       "      <td>2019-08-01</td>\n",
       "      <td>2019-12-05</td>\n",
       "      <td>NaN</td>\n",
       "      <td>5</td>\n",
       "    </tr>\n",
       "    <tr>\n",
       "      <th>4</th>\n",
       "      <td>rrT0640</td>\n",
       "      <td>3635605</td>\n",
       "      <td>2019-08-01</td>\n",
       "      <td>2019-10-13</td>\n",
       "      <td>2019-10-13</td>\n",
       "      <td>1</td>\n",
       "    </tr>\n",
       "  </tbody>\n",
       "</table>\n",
       "</div>"
      ],
      "text/plain": [
       "   FILE_ID     USER     CREATED     UPDATED     DELETED VERSION\n",
       "0  rrT0615  3633870  2019-08-01  2019-08-14         NaN      26\n",
       "1  rrT0625  2853751  2019-08-01  2019-11-19  2019-11-19      26\n",
       "2  rrT0630  2538826  2019-08-01  2019-09-28         NaN       2\n",
       "3  rrT0635  1642941  2019-08-01  2019-12-05         NaN       5\n",
       "4  rrT0640  3635605  2019-08-01  2019-10-13  2019-10-13       1"
      ]
     },
     "execution_count": 14,
     "metadata": {},
     "output_type": "execute_result"
    }
   ],
   "source": [
    "data2.head()"
   ]
  },
  {
   "cell_type": "code",
   "execution_count": 15,
   "metadata": {},
   "outputs": [
    {
     "data": {
      "text/plain": [
       "0"
      ]
     },
     "execution_count": 15,
     "metadata": {},
     "output_type": "execute_result"
    }
   ],
   "source": [
    "len(data2[data2[\"CREATED\"]>data2[\"DELETED\"]])"
   ]
  },
  {
   "cell_type": "code",
   "execution_count": 16,
   "metadata": {},
   "outputs": [
    {
     "data": {
      "text/plain": [
       "53"
      ]
     },
     "execution_count": 16,
     "metadata": {},
     "output_type": "execute_result"
    }
   ],
   "source": [
    "len(data2[data2[\"UPDATED\"]>data2[\"DELETED\"]])"
   ]
  },
  {
   "cell_type": "code",
   "execution_count": 17,
   "metadata": {},
   "outputs": [
    {
     "data": {
      "text/html": [
       "<div>\n",
       "<style>\n",
       "    .dataframe thead tr:only-child th {\n",
       "        text-align: right;\n",
       "    }\n",
       "\n",
       "    .dataframe thead th {\n",
       "        text-align: left;\n",
       "    }\n",
       "\n",
       "    .dataframe tbody tr th {\n",
       "        vertical-align: top;\n",
       "    }\n",
       "</style>\n",
       "<table border=\"1\" class=\"dataframe\">\n",
       "  <thead>\n",
       "    <tr style=\"text-align: right;\">\n",
       "      <th></th>\n",
       "      <th>FILE_ID</th>\n",
       "      <th>USER</th>\n",
       "      <th>CREATED</th>\n",
       "      <th>UPDATED</th>\n",
       "      <th>DELETED</th>\n",
       "      <th>VERSION</th>\n",
       "    </tr>\n",
       "  </thead>\n",
       "  <tbody>\n",
       "    <tr>\n",
       "      <th>1476</th>\n",
       "      <td>ffR06450</td>\n",
       "      <td>3179881</td>\n",
       "      <td>2019-08-02</td>\n",
       "      <td>2019-11-12</td>\n",
       "      <td>2019-08-06</td>\n",
       "      <td>1</td>\n",
       "    </tr>\n",
       "  </tbody>\n",
       "</table>\n",
       "</div>"
      ],
      "text/plain": [
       "       FILE_ID     USER     CREATED     UPDATED     DELETED VERSION\n",
       "1476  ffR06450  3179881  2019-08-02  2019-11-12  2019-08-06       1"
      ]
     },
     "execution_count": 17,
     "metadata": {},
     "output_type": "execute_result"
    }
   ],
   "source": [
    "data2[data2[\"UPDATED\"]>data2[\"DELETED\"]].head(1)"
   ]
  },
  {
   "cell_type": "code",
   "execution_count": 18,
   "metadata": {},
   "outputs": [
    {
     "name": "stderr",
     "output_type": "stream",
     "text": [
      "C:\\Users\\wenfe\\Anaconda3\\lib\\site-packages\\pandas\\core\\indexing.py:179: SettingWithCopyWarning: \n",
      "A value is trying to be set on a copy of a slice from a DataFrame\n",
      "\n",
      "See the caveats in the documentation: http://pandas.pydata.org/pandas-docs/stable/indexing.html#indexing-view-versus-copy\n",
      "  self._setitem_with_indexer(indexer, value)\n",
      "C:\\Users\\wenfe\\Anaconda3\\lib\\site-packages\\ipykernel_launcher.py:1: SettingWithCopyWarning: \n",
      "A value is trying to be set on a copy of a slice from a DataFrame\n",
      "\n",
      "See the caveats in the documentation: http://pandas.pydata.org/pandas-docs/stable/indexing.html#indexing-view-versus-copy\n",
      "  \"\"\"Entry point for launching an IPython kernel.\n"
     ]
    }
   ],
   "source": [
    "data2.loc[data2[\"UPDATED\"]>data2[\"DELETED\"], 'UPDATED'] = data2['DELETED']"
   ]
  },
  {
   "cell_type": "code",
   "execution_count": 19,
   "metadata": {},
   "outputs": [
    {
     "data": {
      "text/plain": [
       "0"
      ]
     },
     "execution_count": 19,
     "metadata": {},
     "output_type": "execute_result"
    }
   ],
   "source": [
    "len(data2[data2[\"UPDATED\"]>data2[\"DELETED\"]])"
   ]
  },
  {
   "cell_type": "code",
   "execution_count": 20,
   "metadata": {},
   "outputs": [
    {
     "data": {
      "text/html": [
       "<div>\n",
       "<style>\n",
       "    .dataframe thead tr:only-child th {\n",
       "        text-align: right;\n",
       "    }\n",
       "\n",
       "    .dataframe thead th {\n",
       "        text-align: left;\n",
       "    }\n",
       "\n",
       "    .dataframe tbody tr th {\n",
       "        vertical-align: top;\n",
       "    }\n",
       "</style>\n",
       "<table border=\"1\" class=\"dataframe\">\n",
       "  <thead>\n",
       "    <tr style=\"text-align: right;\">\n",
       "      <th></th>\n",
       "      <th>FILE_ID</th>\n",
       "      <th>USER</th>\n",
       "      <th>CREATED</th>\n",
       "      <th>UPDATED</th>\n",
       "      <th>DELETED</th>\n",
       "      <th>VERSION</th>\n",
       "    </tr>\n",
       "  </thead>\n",
       "  <tbody>\n",
       "    <tr>\n",
       "      <th>1476</th>\n",
       "      <td>ffR06450</td>\n",
       "      <td>3179881</td>\n",
       "      <td>2019-08-02</td>\n",
       "      <td>2019-08-06</td>\n",
       "      <td>2019-08-06</td>\n",
       "      <td>1</td>\n",
       "    </tr>\n",
       "  </tbody>\n",
       "</table>\n",
       "</div>"
      ],
      "text/plain": [
       "       FILE_ID     USER     CREATED     UPDATED     DELETED VERSION\n",
       "1476  ffR06450  3179881  2019-08-02  2019-08-06  2019-08-06       1"
      ]
     },
     "execution_count": 20,
     "metadata": {},
     "output_type": "execute_result"
    }
   ],
   "source": [
    "data2[data2['FILE_ID']==\"ffR06450\"]"
   ]
  },
  {
   "cell_type": "code",
   "execution_count": 21,
   "metadata": {},
   "outputs": [
    {
     "name": "stderr",
     "output_type": "stream",
     "text": [
      "C:\\Users\\wenfe\\Anaconda3\\lib\\site-packages\\pandas\\core\\internals.py:3224: FutureWarning: Passing in 'datetime64' dtype with no frequency is deprecated and will raise in a future version. Please pass in 'datetime64[ns]' instead.\n",
      "  return self.apply('astype', dtype=dtype, **kwargs)\n",
      "C:\\Users\\wenfe\\Anaconda3\\lib\\site-packages\\ipykernel_launcher.py:1: SettingWithCopyWarning: \n",
      "A value is trying to be set on a copy of a slice from a DataFrame.\n",
      "Try using .loc[row_indexer,col_indexer] = value instead\n",
      "\n",
      "See the caveats in the documentation: http://pandas.pydata.org/pandas-docs/stable/indexing.html#indexing-view-versus-copy\n",
      "  \"\"\"Entry point for launching an IPython kernel.\n"
     ]
    }
   ],
   "source": [
    "data2[\"CREATED\"] = data2[\"CREATED\"].astype(\"datetime64\")"
   ]
  },
  {
   "cell_type": "code",
   "execution_count": 22,
   "metadata": {},
   "outputs": [
    {
     "name": "stderr",
     "output_type": "stream",
     "text": [
      "C:\\Users\\wenfe\\Anaconda3\\lib\\site-packages\\pandas\\core\\internals.py:3224: FutureWarning: Passing in 'datetime64' dtype with no frequency is deprecated and will raise in a future version. Please pass in 'datetime64[ns]' instead.\n",
      "  return self.apply('astype', dtype=dtype, **kwargs)\n",
      "C:\\Users\\wenfe\\Anaconda3\\lib\\site-packages\\ipykernel_launcher.py:1: SettingWithCopyWarning: \n",
      "A value is trying to be set on a copy of a slice from a DataFrame.\n",
      "Try using .loc[row_indexer,col_indexer] = value instead\n",
      "\n",
      "See the caveats in the documentation: http://pandas.pydata.org/pandas-docs/stable/indexing.html#indexing-view-versus-copy\n",
      "  \"\"\"Entry point for launching an IPython kernel.\n"
     ]
    }
   ],
   "source": [
    "data2[\"UPDATED\"] = data2[\"UPDATED\"].astype(\"datetime64\")"
   ]
  },
  {
   "cell_type": "code",
   "execution_count": 23,
   "metadata": {},
   "outputs": [
    {
     "name": "stderr",
     "output_type": "stream",
     "text": [
      "C:\\Users\\wenfe\\Anaconda3\\lib\\site-packages\\ipykernel_launcher.py:3: SettingWithCopyWarning: \n",
      "A value is trying to be set on a copy of a slice from a DataFrame.\n",
      "Try using .loc[row_indexer,col_indexer] = value instead\n",
      "\n",
      "See the caveats in the documentation: http://pandas.pydata.org/pandas-docs/stable/indexing.html#indexing-view-versus-copy\n",
      "  This is separate from the ipykernel package so we can avoid doing imports until\n",
      "C:\\Users\\wenfe\\Anaconda3\\lib\\site-packages\\ipykernel_launcher.py:4: SettingWithCopyWarning: \n",
      "A value is trying to be set on a copy of a slice from a DataFrame.\n",
      "Try using .loc[row_indexer,col_indexer] = value instead\n",
      "\n",
      "See the caveats in the documentation: http://pandas.pydata.org/pandas-docs/stable/indexing.html#indexing-view-versus-copy\n",
      "  after removing the cwd from sys.path.\n"
     ]
    },
    {
     "data": {
      "text/html": [
       "<div>\n",
       "<style>\n",
       "    .dataframe thead tr:only-child th {\n",
       "        text-align: right;\n",
       "    }\n",
       "\n",
       "    .dataframe thead th {\n",
       "        text-align: left;\n",
       "    }\n",
       "\n",
       "    .dataframe tbody tr th {\n",
       "        vertical-align: top;\n",
       "    }\n",
       "</style>\n",
       "<table border=\"1\" class=\"dataframe\">\n",
       "  <thead>\n",
       "    <tr style=\"text-align: right;\">\n",
       "      <th></th>\n",
       "      <th>FILE_ID</th>\n",
       "      <th>USER</th>\n",
       "      <th>CREATED</th>\n",
       "      <th>UPDATED</th>\n",
       "      <th>DELETED</th>\n",
       "      <th>VERSION</th>\n",
       "      <th>CREATEDweek</th>\n",
       "      <th>UPDATEDmonth</th>\n",
       "    </tr>\n",
       "  </thead>\n",
       "  <tbody>\n",
       "    <tr>\n",
       "      <th>0</th>\n",
       "      <td>rrT0615</td>\n",
       "      <td>3633870</td>\n",
       "      <td>2019-08-01</td>\n",
       "      <td>2019-08-14</td>\n",
       "      <td>NaN</td>\n",
       "      <td>26</td>\n",
       "      <td>2019-08-01</td>\n",
       "      <td>2019-08-01</td>\n",
       "    </tr>\n",
       "    <tr>\n",
       "      <th>1</th>\n",
       "      <td>rrT0625</td>\n",
       "      <td>2853751</td>\n",
       "      <td>2019-08-01</td>\n",
       "      <td>2019-11-19</td>\n",
       "      <td>2019-11-19</td>\n",
       "      <td>26</td>\n",
       "      <td>2019-08-01</td>\n",
       "      <td>2019-11-01</td>\n",
       "    </tr>\n",
       "  </tbody>\n",
       "</table>\n",
       "</div>"
      ],
      "text/plain": [
       "   FILE_ID     USER    CREATED    UPDATED     DELETED VERSION CREATEDweek  \\\n",
       "0  rrT0615  3633870 2019-08-01 2019-08-14         NaN      26  2019-08-01   \n",
       "1  rrT0625  2853751 2019-08-01 2019-11-19  2019-11-19      26  2019-08-01   \n",
       "\n",
       "  UPDATEDmonth  \n",
       "0   2019-08-01  \n",
       "1   2019-11-01  "
      ]
     },
     "execution_count": 23,
     "metadata": {},
     "output_type": "execute_result"
    }
   ],
   "source": [
    "def get_month(x):\n",
    "    return dt.datetime(x.year, x.month,1)\n",
    "data2['CREATEDweek'] = data2['CREATED'].apply(get_month)\n",
    "data2['UPDATEDmonth']=data2['UPDATED'].apply(get_month)\n",
    "data2.head(2)"
   ]
  },
  {
   "cell_type": "code",
   "execution_count": 24,
   "metadata": {},
   "outputs": [
    {
     "name": "stderr",
     "output_type": "stream",
     "text": [
      "C:\\Users\\wenfe\\Anaconda3\\lib\\site-packages\\ipykernel_launcher.py:1: SettingWithCopyWarning: \n",
      "A value is trying to be set on a copy of a slice from a DataFrame.\n",
      "Try using .loc[row_indexer,col_indexer] = value instead\n",
      "\n",
      "See the caveats in the documentation: http://pandas.pydata.org/pandas-docs/stable/indexing.html#indexing-view-versus-copy\n",
      "  \"\"\"Entry point for launching an IPython kernel.\n",
      "C:\\Users\\wenfe\\Anaconda3\\lib\\site-packages\\ipykernel_launcher.py:2: SettingWithCopyWarning: \n",
      "A value is trying to be set on a copy of a slice from a DataFrame.\n",
      "Try using .loc[row_indexer,col_indexer] = value instead\n",
      "\n",
      "See the caveats in the documentation: http://pandas.pydata.org/pandas-docs/stable/indexing.html#indexing-view-versus-copy\n",
      "  \n"
     ]
    },
    {
     "data": {
      "text/html": [
       "<div>\n",
       "<style>\n",
       "    .dataframe thead tr:only-child th {\n",
       "        text-align: right;\n",
       "    }\n",
       "\n",
       "    .dataframe thead th {\n",
       "        text-align: left;\n",
       "    }\n",
       "\n",
       "    .dataframe tbody tr th {\n",
       "        vertical-align: top;\n",
       "    }\n",
       "</style>\n",
       "<table border=\"1\" class=\"dataframe\">\n",
       "  <thead>\n",
       "    <tr style=\"text-align: right;\">\n",
       "      <th></th>\n",
       "      <th>FILE_ID</th>\n",
       "      <th>USER</th>\n",
       "      <th>CREATED</th>\n",
       "      <th>UPDATED</th>\n",
       "      <th>DELETED</th>\n",
       "      <th>VERSION</th>\n",
       "      <th>CREATEDweek</th>\n",
       "      <th>UPDATEDmonth</th>\n",
       "      <th>maxupdate</th>\n",
       "      <th>mincreated</th>\n",
       "    </tr>\n",
       "  </thead>\n",
       "  <tbody>\n",
       "    <tr>\n",
       "      <th>0</th>\n",
       "      <td>rrT0615</td>\n",
       "      <td>3633870</td>\n",
       "      <td>2019-08-01</td>\n",
       "      <td>2019-08-14</td>\n",
       "      <td>NaN</td>\n",
       "      <td>26</td>\n",
       "      <td>2019-08-01</td>\n",
       "      <td>2019-08-01</td>\n",
       "      <td>2019-08-01</td>\n",
       "      <td>2019-08-01</td>\n",
       "    </tr>\n",
       "    <tr>\n",
       "      <th>1</th>\n",
       "      <td>rrT0625</td>\n",
       "      <td>2853751</td>\n",
       "      <td>2019-08-01</td>\n",
       "      <td>2019-11-19</td>\n",
       "      <td>2019-11-19</td>\n",
       "      <td>26</td>\n",
       "      <td>2019-08-01</td>\n",
       "      <td>2019-11-01</td>\n",
       "      <td>2019-11-01</td>\n",
       "      <td>2019-08-01</td>\n",
       "    </tr>\n",
       "  </tbody>\n",
       "</table>\n",
       "</div>"
      ],
      "text/plain": [
       "   FILE_ID     USER    CREATED    UPDATED     DELETED VERSION CREATEDweek  \\\n",
       "0  rrT0615  3633870 2019-08-01 2019-08-14         NaN      26  2019-08-01   \n",
       "1  rrT0625  2853751 2019-08-01 2019-11-19  2019-11-19      26  2019-08-01   \n",
       "\n",
       "  UPDATEDmonth  maxupdate mincreated  \n",
       "0   2019-08-01 2019-08-01 2019-08-01  \n",
       "1   2019-11-01 2019-11-01 2019-08-01  "
      ]
     },
     "execution_count": 24,
     "metadata": {},
     "output_type": "execute_result"
    }
   ],
   "source": [
    "data2['maxupdate'] = data2['USER'].map(data2.groupby(['USER'])['UPDATEDmonth'].max())\n",
    "data2['mincreated'] = data2['USER'].map(data2.groupby(['USER'])['CREATEDweek'].min())\n",
    "data2.head(2)"
   ]
  },
  {
   "cell_type": "code",
   "execution_count": 25,
   "metadata": {},
   "outputs": [
    {
     "data": {
      "text/html": [
       "<div>\n",
       "<style>\n",
       "    .dataframe thead tr:only-child th {\n",
       "        text-align: right;\n",
       "    }\n",
       "\n",
       "    .dataframe thead th {\n",
       "        text-align: left;\n",
       "    }\n",
       "\n",
       "    .dataframe tbody tr th {\n",
       "        vertical-align: top;\n",
       "    }\n",
       "</style>\n",
       "<table border=\"1\" class=\"dataframe\">\n",
       "  <thead>\n",
       "    <tr style=\"text-align: right;\">\n",
       "      <th></th>\n",
       "      <th>FILE_ID</th>\n",
       "      <th>USER</th>\n",
       "      <th>CREATED</th>\n",
       "      <th>UPDATED</th>\n",
       "      <th>DELETED</th>\n",
       "      <th>VERSION</th>\n",
       "      <th>CREATEDweek</th>\n",
       "      <th>UPDATEDmonth</th>\n",
       "      <th>maxupdate</th>\n",
       "      <th>mincreated</th>\n",
       "    </tr>\n",
       "  </thead>\n",
       "  <tbody>\n",
       "    <tr>\n",
       "      <th>73173</th>\n",
       "      <td>18472305</td>\n",
       "      <td>100051</td>\n",
       "      <td>2019-10-03</td>\n",
       "      <td>2019-10-07</td>\n",
       "      <td>NaN</td>\n",
       "      <td>19</td>\n",
       "      <td>2019-10-01</td>\n",
       "      <td>2019-10-01</td>\n",
       "      <td>2019-10-01</td>\n",
       "      <td>2019-10-01</td>\n",
       "    </tr>\n",
       "    <tr>\n",
       "      <th>12645</th>\n",
       "      <td>17pp9030</td>\n",
       "      <td>1000898</td>\n",
       "      <td>2019-08-12</td>\n",
       "      <td>2019-11-22</td>\n",
       "      <td>NaN</td>\n",
       "      <td>1</td>\n",
       "      <td>2019-08-01</td>\n",
       "      <td>2019-11-01</td>\n",
       "      <td>2019-11-01</td>\n",
       "      <td>2019-08-01</td>\n",
       "    </tr>\n",
       "    <tr>\n",
       "      <th>71654</th>\n",
       "      <td>18447100</td>\n",
       "      <td>1002413</td>\n",
       "      <td>2019-10-02</td>\n",
       "      <td>2019-12-04</td>\n",
       "      <td>NaN</td>\n",
       "      <td>27</td>\n",
       "      <td>2019-10-01</td>\n",
       "      <td>2019-12-01</td>\n",
       "      <td>2019-12-01</td>\n",
       "      <td>2019-09-01</td>\n",
       "    </tr>\n",
       "  </tbody>\n",
       "</table>\n",
       "</div>"
      ],
      "text/plain": [
       "        FILE_ID     USER    CREATED    UPDATED DELETED VERSION CREATEDweek  \\\n",
       "73173  18472305   100051 2019-10-03 2019-10-07     NaN      19  2019-10-01   \n",
       "12645  17pp9030  1000898 2019-08-12 2019-11-22     NaN       1  2019-08-01   \n",
       "71654  18447100  1002413 2019-10-02 2019-12-04     NaN      27  2019-10-01   \n",
       "\n",
       "      UPDATEDmonth  maxupdate mincreated  \n",
       "73173   2019-10-01 2019-10-01 2019-10-01  \n",
       "12645   2019-11-01 2019-11-01 2019-08-01  \n",
       "71654   2019-12-01 2019-12-01 2019-09-01  "
      ]
     },
     "execution_count": 25,
     "metadata": {},
     "output_type": "execute_result"
    }
   ],
   "source": [
    "data2.loc[data2.groupby(['USER'])['UPDATEDmonth'].idxmax()].head(3)"
   ]
  },
  {
   "cell_type": "code",
   "execution_count": 26,
   "metadata": {},
   "outputs": [
    {
     "name": "stderr",
     "output_type": "stream",
     "text": [
      "C:\\Users\\wenfe\\Anaconda3\\lib\\site-packages\\ipykernel_launcher.py:1: SettingWithCopyWarning: \n",
      "A value is trying to be set on a copy of a slice from a DataFrame.\n",
      "Try using .loc[row_indexer,col_indexer] = value instead\n",
      "\n",
      "See the caveats in the documentation: http://pandas.pydata.org/pandas-docs/stable/indexing.html#indexing-view-versus-copy\n",
      "  \"\"\"Entry point for launching an IPython kernel.\n"
     ]
    },
    {
     "data": {
      "text/plain": [
       "1494.0"
      ]
     },
     "execution_count": 26,
     "metadata": {},
     "output_type": "execute_result"
    }
   ],
   "source": [
    "data2[\"VERSION\"]= pd.to_numeric(data2[\"VERSION\"], errors=\"coerce\")\n",
    "data2[\"VERSION\"].astype(float)\n",
    "data2.VERSION.max()"
   ]
  },
  {
   "cell_type": "code",
   "execution_count": 211,
   "metadata": {},
   "outputs": [
    {
     "data": {
      "text/plain": [
       "Timestamp('2019-10-31 00:00:00')"
      ]
     },
     "execution_count": 211,
     "metadata": {},
     "output_type": "execute_result"
    }
   ],
   "source": [
    "data2.CREATED.max()"
   ]
  },
  {
   "cell_type": "code",
   "execution_count": 27,
   "metadata": {},
   "outputs": [
    {
     "name": "stderr",
     "output_type": "stream",
     "text": [
      "C:\\Users\\wenfe\\Anaconda3\\lib\\site-packages\\ipykernel_launcher.py:10: SettingWithCopyWarning: \n",
      "A value is trying to be set on a copy of a slice from a DataFrame.\n",
      "Try using .loc[row_indexer,col_indexer] = value instead\n",
      "\n",
      "See the caveats in the documentation: http://pandas.pydata.org/pandas-docs/stable/indexing.html#indexing-view-versus-copy\n",
      "  # Remove the CWD from sys.path while we load stuff.\n"
     ]
    }
   ],
   "source": [
    "def get_date(df, column):\n",
    "    year = df[column].dt.year\n",
    "    month = df[column].dt.month\n",
    "    day = df[column].dt.day\n",
    "    return year, month, day\n",
    "update_year, update_month, _ = get_date(data2, 'maxupdate')\n",
    "cohort_year, cohort_month, _ = get_date(data2, 'mincreated')\n",
    "year_diff = update_year - cohort_year\n",
    "month_diff = update_month - cohort_month\n",
    "data2['CohortIndex'] = year_diff * 12 + month_diff+1"
   ]
  },
  {
   "cell_type": "code",
   "execution_count": 28,
   "metadata": {},
   "outputs": [
    {
     "name": "stderr",
     "output_type": "stream",
     "text": [
      "C:\\Users\\wenfe\\Anaconda3\\lib\\site-packages\\ipykernel_launcher.py:1: SettingWithCopyWarning: \n",
      "A value is trying to be set on a copy of a slice from a DataFrame.\n",
      "Try using .loc[row_indexer,col_indexer] = value instead\n",
      "\n",
      "See the caveats in the documentation: http://pandas.pydata.org/pandas-docs/stable/indexing.html#indexing-view-versus-copy\n",
      "  \"\"\"Entry point for launching an IPython kernel.\n",
      "C:\\Users\\wenfe\\Anaconda3\\lib\\site-packages\\ipykernel_launcher.py:2: SettingWithCopyWarning: \n",
      "A value is trying to be set on a copy of a slice from a DataFrame.\n",
      "Try using .loc[row_indexer,col_indexer] = value instead\n",
      "\n",
      "See the caveats in the documentation: http://pandas.pydata.org/pandas-docs/stable/indexing.html#indexing-view-versus-copy\n",
      "  \n"
     ]
    }
   ],
   "source": [
    "data2[\"filespan\"]=(data2[\"UPDATED\"]-data2[\"CREATED\"]).dt.days\n",
    "data2[\"averageupdatedday\"]=data2[\"filespan\"]/data2[\"VERSION\"]"
   ]
  },
  {
   "cell_type": "code",
   "execution_count": 29,
   "metadata": {},
   "outputs": [
    {
     "data": {
      "text/plain": [
       "Timestamp('2019-10-01 00:00:00')"
      ]
     },
     "execution_count": 29,
     "metadata": {},
     "output_type": "execute_result"
    }
   ],
   "source": [
    "data2.mincreated.max()"
   ]
  },
  {
   "cell_type": "code",
   "execution_count": 30,
   "metadata": {},
   "outputs": [],
   "source": [
    "#data2[\"UPDATEDmonth\"] = data2[\"UPDATEDmonth\"].astype(\"datetime64\")\n",
    "#data2[\"maxupdate\"] = data2[\"maxupdate\"].astype(\"datetime64\")\n",
    "#data2[\"mincreated\"] = data2[\"mincreated\"].astype(\"datetime64\")"
   ]
  },
  {
   "cell_type": "code",
   "execution_count": 31,
   "metadata": {},
   "outputs": [
    {
     "data": {
      "text/html": [
       "<div>\n",
       "<style>\n",
       "    .dataframe thead tr:only-child th {\n",
       "        text-align: right;\n",
       "    }\n",
       "\n",
       "    .dataframe thead th {\n",
       "        text-align: left;\n",
       "    }\n",
       "\n",
       "    .dataframe tbody tr th {\n",
       "        vertical-align: top;\n",
       "    }\n",
       "</style>\n",
       "<table border=\"1\" class=\"dataframe\">\n",
       "  <thead>\n",
       "    <tr style=\"text-align: right;\">\n",
       "      <th></th>\n",
       "      <th>FILE_ID</th>\n",
       "      <th>USER</th>\n",
       "      <th>CREATED</th>\n",
       "      <th>UPDATED</th>\n",
       "      <th>DELETED</th>\n",
       "      <th>VERSION</th>\n",
       "      <th>CREATEDweek</th>\n",
       "      <th>UPDATEDmonth</th>\n",
       "      <th>maxupdate</th>\n",
       "      <th>mincreated</th>\n",
       "      <th>CohortIndex</th>\n",
       "      <th>filespan</th>\n",
       "      <th>averageupdatedday</th>\n",
       "    </tr>\n",
       "  </thead>\n",
       "  <tbody>\n",
       "    <tr>\n",
       "      <th>0</th>\n",
       "      <td>rrT0615</td>\n",
       "      <td>3633870</td>\n",
       "      <td>2019-08-01</td>\n",
       "      <td>2019-08-14</td>\n",
       "      <td>NaN</td>\n",
       "      <td>26.0</td>\n",
       "      <td>2019-08-01</td>\n",
       "      <td>2019-08-01</td>\n",
       "      <td>2019-08-01</td>\n",
       "      <td>2019-08-01</td>\n",
       "      <td>1.0</td>\n",
       "      <td>13</td>\n",
       "      <td>0.5</td>\n",
       "    </tr>\n",
       "  </tbody>\n",
       "</table>\n",
       "</div>"
      ],
      "text/plain": [
       "   FILE_ID     USER    CREATED    UPDATED DELETED  VERSION CREATEDweek  \\\n",
       "0  rrT0615  3633870 2019-08-01 2019-08-14     NaN     26.0  2019-08-01   \n",
       "\n",
       "  UPDATEDmonth  maxupdate mincreated  CohortIndex  filespan  averageupdatedday  \n",
       "0   2019-08-01 2019-08-01 2019-08-01          1.0        13                0.5  "
      ]
     },
     "execution_count": 31,
     "metadata": {},
     "output_type": "execute_result"
    }
   ],
   "source": [
    "data2.head(1)"
   ]
  },
  {
   "cell_type": "code",
   "execution_count": 32,
   "metadata": {},
   "outputs": [
    {
     "data": {
      "text/plain": [
       "10035"
      ]
     },
     "execution_count": 32,
     "metadata": {},
     "output_type": "execute_result"
    }
   ],
   "source": [
    "data2['USER'].nunique()"
   ]
  },
  {
   "cell_type": "markdown",
   "metadata": {},
   "source": [
    "#  Data Visualization"
   ]
  },
  {
   "cell_type": "code",
   "execution_count": 33,
   "metadata": {},
   "outputs": [],
   "source": [
    "import seaborn as sns\n",
    "import matplotlib.pyplot as plt\n",
    "import datetime as dt"
   ]
  },
  {
   "cell_type": "markdown",
   "metadata": {},
   "source": [
    "\n",
    "\n",
    "Daily file create visualization:"
   ]
  },
  {
   "cell_type": "code",
   "execution_count": 34,
   "metadata": {},
   "outputs": [
    {
     "data": {
      "image/png": "[encoded data removed]",
      "text/plain": [
       "<matplotlib.figure.Figure at 0x2194b3c8630>"
      ]
     },
     "metadata": {},
     "output_type": "display_data"
    }
   ],
   "source": [
    "fig, ax = plt.subplots(figsize=(8, 5))\n",
    "sns.countplot(x='CREATED',data=data2,ax=ax) \n",
    "plt.show()"
   ]
  },
  {
   "cell_type": "markdown",
   "metadata": {},
   "source": [
    "\n",
    "\n",
    "Number of created files by each day:"
   ]
  },
  {
   "cell_type": "code",
   "execution_count": 35,
   "metadata": {},
   "outputs": [
    {
     "data": {
      "image/png": "[encoded data removed]",
      "text/plain": [
       "<matplotlib.figure.Figure at 0x2194ee067f0>"
      ]
     },
     "metadata": {},
     "output_type": "display_data"
    }
   ],
   "source": [
    "df0= data2.groupby('CREATED')['FILE_ID'].nunique().reset_index()\n",
    "df0['createnumberbyday']=df0['FILE_ID']\n",
    "#df0.head()\n",
    "df0.plot(x='CREATED', y='createnumberbyday', figsize=(12,6))\n",
    "plt.xlabel('Created date time')\n",
    "plt.ylabel('Number of created files')\n",
    "plt.title('Time Series of number of created files by date time')\n",
    "plt.show()"
   ]
  },
  {
   "cell_type": "markdown",
   "metadata": {},
   "source": [
    "\n",
    "\n",
    "Number of files created per user and per day "
   ]
  },
  {
   "cell_type": "code",
   "execution_count": 36,
   "metadata": {},
   "outputs": [
    {
     "data": {
      "image/png": "[encoded data removed]",
      "text/plain": [
       "<matplotlib.figure.Figure at 0x2194ed36be0>"
      ]
     },
     "metadata": {},
     "output_type": "display_data"
    }
   ],
   "source": [
    "df00= data2.groupby('CREATED')['USER'].nunique().reset_index()\n",
    "df0['n_user']=df00['USER']\n",
    "df0['n_file_per_user']=df0['createnumberbyday']/df0['n_user']\n",
    "df0.plot(x='CREATED', y='n_file_per_user', figsize=(12,6))\n",
    "plt.xlabel('Created date time')\n",
    "plt.ylabel('Number files created per user and per day')\n",
    "plt.title('Time Series of number of files created per user and per day')\n",
    "plt.show()"
   ]
  },
  {
   "cell_type": "code",
   "execution_count": 37,
   "metadata": {},
   "outputs": [
    {
     "data": {
      "text/html": [
       "<div>\n",
       "<style>\n",
       "    .dataframe thead tr:only-child th {\n",
       "        text-align: right;\n",
       "    }\n",
       "\n",
       "    .dataframe thead th {\n",
       "        text-align: left;\n",
       "    }\n",
       "\n",
       "    .dataframe tbody tr th {\n",
       "        vertical-align: top;\n",
       "    }\n",
       "</style>\n",
       "<table border=\"1\" class=\"dataframe\">\n",
       "  <thead>\n",
       "    <tr style=\"text-align: right;\">\n",
       "      <th></th>\n",
       "      <th>CREATED</th>\n",
       "      <th>FILE_ID</th>\n",
       "      <th>createnumberbyday</th>\n",
       "      <th>n_user</th>\n",
       "      <th>n_file_per_user</th>\n",
       "    </tr>\n",
       "  </thead>\n",
       "  <tbody>\n",
       "    <tr>\n",
       "      <th>0</th>\n",
       "      <td>2019-08-01</td>\n",
       "      <td>1386</td>\n",
       "      <td>1386</td>\n",
       "      <td>729</td>\n",
       "      <td>1.901235</td>\n",
       "    </tr>\n",
       "    <tr>\n",
       "      <th>1</th>\n",
       "      <td>2019-08-02</td>\n",
       "      <td>1149</td>\n",
       "      <td>1149</td>\n",
       "      <td>618</td>\n",
       "      <td>1.859223</td>\n",
       "    </tr>\n",
       "  </tbody>\n",
       "</table>\n",
       "</div>"
      ],
      "text/plain": [
       "     CREATED  FILE_ID  createnumberbyday  n_user  n_file_per_user\n",
       "0 2019-08-01     1386               1386     729         1.901235\n",
       "1 2019-08-02     1149               1149     618         1.859223"
      ]
     },
     "execution_count": 37,
     "metadata": {},
     "output_type": "execute_result"
    }
   ],
   "source": [
    "df0.head(2)"
   ]
  },
  {
   "cell_type": "markdown",
   "metadata": {},
   "source": [
    "\n",
    "\n",
    "Average number of files created per user in different month:"
   ]
  },
  {
   "cell_type": "code",
   "execution_count": 38,
   "metadata": {},
   "outputs": [
    {
     "data": {
      "text/html": [
       "<div>\n",
       "<style>\n",
       "    .dataframe thead tr:only-child th {\n",
       "        text-align: right;\n",
       "    }\n",
       "\n",
       "    .dataframe thead th {\n",
       "        text-align: left;\n",
       "    }\n",
       "\n",
       "    .dataframe tbody tr th {\n",
       "        vertical-align: top;\n",
       "    }\n",
       "</style>\n",
       "<table border=\"1\" class=\"dataframe\">\n",
       "  <thead>\n",
       "    <tr style=\"text-align: right;\">\n",
       "      <th></th>\n",
       "      <th>CREATED</th>\n",
       "      <th>FILE_ID</th>\n",
       "      <th>m_files</th>\n",
       "      <th>m_users</th>\n",
       "      <th>m_files_per_user</th>\n",
       "    </tr>\n",
       "  </thead>\n",
       "  <tbody>\n",
       "    <tr>\n",
       "      <th>0</th>\n",
       "      <td>8</td>\n",
       "      <td>38481</td>\n",
       "      <td>38481</td>\n",
       "      <td>5853</td>\n",
       "      <td>6.574577</td>\n",
       "    </tr>\n",
       "    <tr>\n",
       "      <th>1</th>\n",
       "      <td>9</td>\n",
       "      <td>31632</td>\n",
       "      <td>31632</td>\n",
       "      <td>5479</td>\n",
       "      <td>5.773316</td>\n",
       "    </tr>\n",
       "    <tr>\n",
       "      <th>2</th>\n",
       "      <td>10</td>\n",
       "      <td>32020</td>\n",
       "      <td>32020</td>\n",
       "      <td>5270</td>\n",
       "      <td>6.075901</td>\n",
       "    </tr>\n",
       "  </tbody>\n",
       "</table>\n",
       "</div>"
      ],
      "text/plain": [
       "   CREATED  FILE_ID  m_files  m_users  m_files_per_user\n",
       "0        8    38481    38481     5853          6.574577\n",
       "1        9    31632    31632     5479          5.773316\n",
       "2       10    32020    32020     5270          6.075901"
      ]
     },
     "execution_count": 38,
     "metadata": {},
     "output_type": "execute_result"
    }
   ],
   "source": [
    "dffm=data2.groupby(data2[\"CREATED\"].dt.month)['FILE_ID'].nunique().reset_index()\n",
    "dffm['m_files']=dffm['FILE_ID']\n",
    "dffm0=data2.groupby(data2[\"CREATED\"].dt.month)['USER'].nunique().reset_index()\n",
    "dffm['m_users']=dffm0['USER']\n",
    "dffm['m_files_per_user']=dffm['m_files']/dffm['m_users']\n",
    "dffm"
   ]
  },
  {
   "cell_type": "code",
   "execution_count": 39,
   "metadata": {},
   "outputs": [
    {
     "data": {
      "image/png": "[encoded data removed]",
      "text/plain": [
       "<matplotlib.figure.Figure at 0x2194f036278>"
      ]
     },
     "metadata": {},
     "output_type": "display_data"
    }
   ],
   "source": [
    "dffm.plot(kind='bar',x='CREATED', y='m_files_per_user', figsize=(12,6))\n",
    "plt.xlabel('Created Month')\n",
    "plt.ylabel('Number of files created per user')\n",
    "plt.title('Number of files created per user in each month')\n",
    "plt.show()"
   ]
  },
  {
   "cell_type": "markdown",
   "metadata": {},
   "source": [
    "\n",
    "\n",
    "Top 10 user of files created:"
   ]
  },
  {
   "cell_type": "code",
   "execution_count": 223,
   "metadata": {},
   "outputs": [
    {
     "data": {
      "text/html": [
       "<div>\n",
       "<style>\n",
       "    .dataframe thead tr:only-child th {\n",
       "        text-align: right;\n",
       "    }\n",
       "\n",
       "    .dataframe thead th {\n",
       "        text-align: left;\n",
       "    }\n",
       "\n",
       "    .dataframe tbody tr th {\n",
       "        vertical-align: top;\n",
       "    }\n",
       "</style>\n",
       "<table border=\"1\" class=\"dataframe\">\n",
       "  <thead>\n",
       "    <tr style=\"text-align: right;\">\n",
       "      <th></th>\n",
       "      <th>USER</th>\n",
       "      <th>FILE_ID</th>\n",
       "      <th>n_files</th>\n",
       "    </tr>\n",
       "  </thead>\n",
       "  <tbody>\n",
       "    <tr>\n",
       "      <th>6</th>\n",
       "      <td>1005473</td>\n",
       "      <td>4</td>\n",
       "      <td>772.0</td>\n",
       "    </tr>\n",
       "    <tr>\n",
       "      <th>40</th>\n",
       "      <td>1023008</td>\n",
       "      <td>11</td>\n",
       "      <td>761.0</td>\n",
       "    </tr>\n",
       "    <tr>\n",
       "      <th>26</th>\n",
       "      <td>1015868</td>\n",
       "      <td>14</td>\n",
       "      <td>749.0</td>\n",
       "    </tr>\n",
       "    <tr>\n",
       "      <th>27</th>\n",
       "      <td>1016358</td>\n",
       "      <td>3</td>\n",
       "      <td>748.0</td>\n",
       "    </tr>\n",
       "    <tr>\n",
       "      <th>41</th>\n",
       "      <td>1024803</td>\n",
       "      <td>9</td>\n",
       "      <td>747.0</td>\n",
       "    </tr>\n",
       "    <tr>\n",
       "      <th>42</th>\n",
       "      <td>1024988</td>\n",
       "      <td>15</td>\n",
       "      <td>746.0</td>\n",
       "    </tr>\n",
       "    <tr>\n",
       "      <th>5</th>\n",
       "      <td>1004858</td>\n",
       "      <td>13</td>\n",
       "      <td>739.0</td>\n",
       "    </tr>\n",
       "    <tr>\n",
       "      <th>56</th>\n",
       "      <td>1033333</td>\n",
       "      <td>14</td>\n",
       "      <td>733.0</td>\n",
       "    </tr>\n",
       "    <tr>\n",
       "      <th>0</th>\n",
       "      <td>100051</td>\n",
       "      <td>1</td>\n",
       "      <td>729.0</td>\n",
       "    </tr>\n",
       "    <tr>\n",
       "      <th>68</th>\n",
       "      <td>1041598</td>\n",
       "      <td>21</td>\n",
       "      <td>727.0</td>\n",
       "    </tr>\n",
       "  </tbody>\n",
       "</table>\n",
       "</div>"
      ],
      "text/plain": [
       "       USER  FILE_ID  n_files\n",
       "6   1005473        4    772.0\n",
       "40  1023008       11    761.0\n",
       "26  1015868       14    749.0\n",
       "27  1016358        3    748.0\n",
       "41  1024803        9    747.0\n",
       "42  1024988       15    746.0\n",
       "5   1004858       13    739.0\n",
       "56  1033333       14    733.0\n",
       "0    100051        1    729.0\n",
       "68  1041598       21    727.0"
      ]
     },
     "execution_count": 223,
     "metadata": {},
     "output_type": "execute_result"
    }
   ],
   "source": [
    "dff= data2.groupby('USER')['FILE_ID'].nunique().reset_index()\n",
    "dff['n_files']=df00['USER']\n",
    "dff0=dff.sort_values(by='n_files',ascending=False)\n",
    "dff1=dff0.head(10)\n",
    "dff1"
   ]
  },
  {
   "cell_type": "code",
   "execution_count": 41,
   "metadata": {},
   "outputs": [
    {
     "data": {
      "image/png": "[encoded data removed]",
      "text/plain": [
       "<matplotlib.figure.Figure at 0x2194f076208>"
      ]
     },
     "metadata": {},
     "output_type": "display_data"
    }
   ],
   "source": [
    "dff1.plot(x='USER', y='n_files', figsize=(12,6))\n",
    "plt.xlabel('USER')\n",
    "plt.ylabel('Number of files created by different user')\n",
    "plt.title('Toal number of files created by different user')\n",
    "plt.show()"
   ]
  },
  {
   "cell_type": "markdown",
   "metadata": {},
   "source": [
    "\n",
    "\n",
    "New user of each month:"
   ]
  },
  {
   "cell_type": "code",
   "execution_count": 50,
   "metadata": {},
   "outputs": [
    {
     "data": {
      "text/html": [
       "<div>\n",
       "<style>\n",
       "    .dataframe thead tr:only-child th {\n",
       "        text-align: right;\n",
       "    }\n",
       "\n",
       "    .dataframe thead th {\n",
       "        text-align: left;\n",
       "    }\n",
       "\n",
       "    .dataframe tbody tr th {\n",
       "        vertical-align: top;\n",
       "    }\n",
       "</style>\n",
       "<table border=\"1\" class=\"dataframe\">\n",
       "  <thead>\n",
       "    <tr style=\"text-align: right;\">\n",
       "      <th></th>\n",
       "      <th>createdmonth</th>\n",
       "      <th>createduser</th>\n",
       "      <th>mincreated</th>\n",
       "    </tr>\n",
       "  </thead>\n",
       "  <tbody>\n",
       "    <tr>\n",
       "      <th>0</th>\n",
       "      <td>8</td>\n",
       "      <td>5853</td>\n",
       "      <td>2019-08-01</td>\n",
       "    </tr>\n",
       "    <tr>\n",
       "      <th>1</th>\n",
       "      <td>9</td>\n",
       "      <td>2464</td>\n",
       "      <td>2019-09-01</td>\n",
       "    </tr>\n",
       "    <tr>\n",
       "      <th>2</th>\n",
       "      <td>10</td>\n",
       "      <td>1718</td>\n",
       "      <td>2019-10-01</td>\n",
       "    </tr>\n",
       "  </tbody>\n",
       "</table>\n",
       "</div>"
      ],
      "text/plain": [
       "   createdmonth  createduser mincreated\n",
       "0             8         5853 2019-08-01\n",
       "1             9         2464 2019-09-01\n",
       "2            10         1718 2019-10-01"
      ]
     },
     "execution_count": 50,
     "metadata": {},
     "output_type": "execute_result"
    }
   ],
   "source": [
    "dfnew= data2.groupby('mincreated')['USER'].nunique().reset_index() #groupby(data2[\"mincreated\"]\n",
    "dfnew['createduser']=dfnew['USER']\n",
    "dfnew['createdmonth']=dfnew['mincreated'].dt.month\n",
    "dfnew=dfnew[['createdmonth','createduser','mincreated']]\n",
    "dfnew"
   ]
  },
  {
   "cell_type": "code",
   "execution_count": 43,
   "metadata": {},
   "outputs": [
    {
     "data": {
      "image/png": "[encoded data removed]",
      "text/plain": [
       "<matplotlib.figure.Figure at 0x2194efd5048>"
      ]
     },
     "metadata": {},
     "output_type": "display_data"
    }
   ],
   "source": [
    "fig, ax = plt.subplots(figsize=(8, 5))\n",
    "sns.barplot(x='createdmonth', y='createduser', data=dfnew, ax=ax)\n",
    "plt.xlabel('Created Month')\n",
    "plt.ylabel('The number of new user')\n",
    "plt.title('The number of new user by month')\n",
    "plt.show()"
   ]
  },
  {
   "cell_type": "code",
   "execution_count": 44,
   "metadata": {},
   "outputs": [
    {
     "data": {
      "text/html": [
       "<div>\n",
       "<style>\n",
       "    .dataframe thead tr:only-child th {\n",
       "        text-align: right;\n",
       "    }\n",
       "\n",
       "    .dataframe thead th {\n",
       "        text-align: left;\n",
       "    }\n",
       "\n",
       "    .dataframe tbody tr th {\n",
       "        vertical-align: top;\n",
       "    }\n",
       "</style>\n",
       "<table border=\"1\" class=\"dataframe\">\n",
       "  <thead>\n",
       "    <tr style=\"text-align: right;\">\n",
       "      <th></th>\n",
       "      <th>USER</th>\n",
       "      <th>CREATED</th>\n",
       "      <th>UPDATED</th>\n",
       "      <th>DELETED</th>\n",
       "      <th>VERSION</th>\n",
       "      <th>filespan</th>\n",
       "      <th>averageupdatedday</th>\n",
       "    </tr>\n",
       "  </thead>\n",
       "  <tbody>\n",
       "    <tr>\n",
       "      <th>0</th>\n",
       "      <td>3633870</td>\n",
       "      <td>2019-08-01</td>\n",
       "      <td>2019-08-14</td>\n",
       "      <td>NaN</td>\n",
       "      <td>26.0</td>\n",
       "      <td>13</td>\n",
       "      <td>0.500000</td>\n",
       "    </tr>\n",
       "    <tr>\n",
       "      <th>1</th>\n",
       "      <td>2853751</td>\n",
       "      <td>2019-08-01</td>\n",
       "      <td>2019-11-19</td>\n",
       "      <td>2019-11-19</td>\n",
       "      <td>26.0</td>\n",
       "      <td>110</td>\n",
       "      <td>4.230769</td>\n",
       "    </tr>\n",
       "    <tr>\n",
       "      <th>2</th>\n",
       "      <td>2538826</td>\n",
       "      <td>2019-08-01</td>\n",
       "      <td>2019-09-28</td>\n",
       "      <td>NaN</td>\n",
       "      <td>2.0</td>\n",
       "      <td>58</td>\n",
       "      <td>29.000000</td>\n",
       "    </tr>\n",
       "    <tr>\n",
       "      <th>3</th>\n",
       "      <td>1642941</td>\n",
       "      <td>2019-08-01</td>\n",
       "      <td>2019-12-05</td>\n",
       "      <td>NaN</td>\n",
       "      <td>5.0</td>\n",
       "      <td>126</td>\n",
       "      <td>25.200000</td>\n",
       "    </tr>\n",
       "    <tr>\n",
       "      <th>4</th>\n",
       "      <td>3635605</td>\n",
       "      <td>2019-08-01</td>\n",
       "      <td>2019-10-13</td>\n",
       "      <td>2019-10-13</td>\n",
       "      <td>1.0</td>\n",
       "      <td>73</td>\n",
       "      <td>73.000000</td>\n",
       "    </tr>\n",
       "  </tbody>\n",
       "</table>\n",
       "</div>"
      ],
      "text/plain": [
       "      USER    CREATED    UPDATED     DELETED  VERSION  filespan  \\\n",
       "0  3633870 2019-08-01 2019-08-14         NaN     26.0        13   \n",
       "1  2853751 2019-08-01 2019-11-19  2019-11-19     26.0       110   \n",
       "2  2538826 2019-08-01 2019-09-28         NaN      2.0        58   \n",
       "3  1642941 2019-08-01 2019-12-05         NaN      5.0       126   \n",
       "4  3635605 2019-08-01 2019-10-13  2019-10-13      1.0        73   \n",
       "\n",
       "   averageupdatedday  \n",
       "0           0.500000  \n",
       "1           4.230769  \n",
       "2          29.000000  \n",
       "3          25.200000  \n",
       "4          73.000000  "
      ]
     },
     "execution_count": 44,
     "metadata": {},
     "output_type": "execute_result"
    }
   ],
   "source": [
    "data3=data2[['USER','CREATED','UPDATED','DELETED','VERSION','filespan','averageupdatedday']]\n",
    "data3.head()"
   ]
  },
  {
   "cell_type": "code",
   "execution_count": 45,
   "metadata": {},
   "outputs": [
    {
     "data": {
      "text/plain": [
       "74436"
      ]
     },
     "execution_count": 45,
     "metadata": {},
     "output_type": "execute_result"
    }
   ],
   "source": [
    "len(data3[data3['VERSION']>1])"
   ]
  },
  {
   "cell_type": "code",
   "execution_count": 46,
   "metadata": {},
   "outputs": [
    {
     "data": {
      "image/png": "[encoded data removed]",
      "text/plain": [
       "<matplotlib.figure.Figure at 0x2194f0ec5f8>"
      ]
     },
     "metadata": {},
     "output_type": "display_data"
    }
   ],
   "source": [
    "\n",
    "data3[['averageupdatedday']].plot(kind='hist',bins=[0,5,10,15,20,25],rwidth=0.8)\n",
    "plt.show()"
   ]
  },
  {
   "cell_type": "code",
   "execution_count": 47,
   "metadata": {},
   "outputs": [
    {
     "data": {
      "image/png": "[encoded data removed]",
      "text/plain": [
       "<matplotlib.figure.Figure at 0x2194f122d68>"
      ]
     },
     "metadata": {},
     "output_type": "display_data"
    }
   ],
   "source": [
    "data3['UPDATED'].map(lambda d: d.month).plot(kind='hist')\n",
    "plt.show()"
   ]
  },
  {
   "cell_type": "markdown",
   "metadata": {},
   "source": [
    "# Exploratory Data Analysis"
   ]
  },
  {
   "cell_type": "markdown",
   "metadata": {},
   "source": [
    "### Cohort Analysis: User number & Retention Rate"
   ]
  },
  {
   "cell_type": "markdown",
   "metadata": {},
   "source": [
    "\n",
    "The first cohort I use here is the number of active users. I use groupby and pivot table functions."
   ]
  },
  {
   "cell_type": "code",
   "execution_count": 48,
   "metadata": {},
   "outputs": [
    {
     "data": {
      "text/html": [
       "<div>\n",
       "<style>\n",
       "    .dataframe thead tr:only-child th {\n",
       "        text-align: right;\n",
       "    }\n",
       "\n",
       "    .dataframe thead th {\n",
       "        text-align: left;\n",
       "    }\n",
       "\n",
       "    .dataframe tbody tr th {\n",
       "        vertical-align: top;\n",
       "    }\n",
       "</style>\n",
       "<table border=\"1\" class=\"dataframe\">\n",
       "  <thead>\n",
       "    <tr style=\"text-align: right;\">\n",
       "      <th></th>\n",
       "      <th>mincreated</th>\n",
       "      <th>CohortIndex</th>\n",
       "      <th>churn_number_of_user</th>\n",
       "    </tr>\n",
       "  </thead>\n",
       "  <tbody>\n",
       "    <tr>\n",
       "      <th>0</th>\n",
       "      <td>2019-08-01</td>\n",
       "      <td>1.0</td>\n",
       "      <td>675</td>\n",
       "    </tr>\n",
       "    <tr>\n",
       "      <th>1</th>\n",
       "      <td>2019-08-01</td>\n",
       "      <td>2.0</td>\n",
       "      <td>266</td>\n",
       "    </tr>\n",
       "    <tr>\n",
       "      <th>2</th>\n",
       "      <td>2019-08-01</td>\n",
       "      <td>3.0</td>\n",
       "      <td>954</td>\n",
       "    </tr>\n",
       "    <tr>\n",
       "      <th>3</th>\n",
       "      <td>2019-08-01</td>\n",
       "      <td>4.0</td>\n",
       "      <td>1408</td>\n",
       "    </tr>\n",
       "    <tr>\n",
       "      <th>4</th>\n",
       "      <td>2019-08-01</td>\n",
       "      <td>5.0</td>\n",
       "      <td>1873</td>\n",
       "    </tr>\n",
       "    <tr>\n",
       "      <th>5</th>\n",
       "      <td>2019-08-01</td>\n",
       "      <td>6.0</td>\n",
       "      <td>561</td>\n",
       "    </tr>\n",
       "    <tr>\n",
       "      <th>6</th>\n",
       "      <td>2019-08-01</td>\n",
       "      <td>7.0</td>\n",
       "      <td>116</td>\n",
       "    </tr>\n",
       "    <tr>\n",
       "      <th>7</th>\n",
       "      <td>2019-09-01</td>\n",
       "      <td>1.0</td>\n",
       "      <td>474</td>\n",
       "    </tr>\n",
       "    <tr>\n",
       "      <th>8</th>\n",
       "      <td>2019-09-01</td>\n",
       "      <td>2.0</td>\n",
       "      <td>326</td>\n",
       "    </tr>\n",
       "    <tr>\n",
       "      <th>9</th>\n",
       "      <td>2019-09-01</td>\n",
       "      <td>3.0</td>\n",
       "      <td>596</td>\n",
       "    </tr>\n",
       "    <tr>\n",
       "      <th>10</th>\n",
       "      <td>2019-09-01</td>\n",
       "      <td>4.0</td>\n",
       "      <td>957</td>\n",
       "    </tr>\n",
       "    <tr>\n",
       "      <th>11</th>\n",
       "      <td>2019-09-01</td>\n",
       "      <td>5.0</td>\n",
       "      <td>92</td>\n",
       "    </tr>\n",
       "    <tr>\n",
       "      <th>12</th>\n",
       "      <td>2019-09-01</td>\n",
       "      <td>6.0</td>\n",
       "      <td>19</td>\n",
       "    </tr>\n",
       "    <tr>\n",
       "      <th>13</th>\n",
       "      <td>2019-10-01</td>\n",
       "      <td>1.0</td>\n",
       "      <td>656</td>\n",
       "    </tr>\n",
       "    <tr>\n",
       "      <th>14</th>\n",
       "      <td>2019-10-01</td>\n",
       "      <td>2.0</td>\n",
       "      <td>617</td>\n",
       "    </tr>\n",
       "    <tr>\n",
       "      <th>15</th>\n",
       "      <td>2019-10-01</td>\n",
       "      <td>3.0</td>\n",
       "      <td>444</td>\n",
       "    </tr>\n",
       "    <tr>\n",
       "      <th>16</th>\n",
       "      <td>2019-10-01</td>\n",
       "      <td>4.0</td>\n",
       "      <td>1</td>\n",
       "    </tr>\n",
       "  </tbody>\n",
       "</table>\n",
       "</div>"
      ],
      "text/plain": [
       "   mincreated  CohortIndex  churn_number_of_user\n",
       "0  2019-08-01          1.0                   675\n",
       "1  2019-08-01          2.0                   266\n",
       "2  2019-08-01          3.0                   954\n",
       "3  2019-08-01          4.0                  1408\n",
       "4  2019-08-01          5.0                  1873\n",
       "5  2019-08-01          6.0                   561\n",
       "6  2019-08-01          7.0                   116\n",
       "7  2019-09-01          1.0                   474\n",
       "8  2019-09-01          2.0                   326\n",
       "9  2019-09-01          3.0                   596\n",
       "10 2019-09-01          4.0                   957\n",
       "11 2019-09-01          5.0                    92\n",
       "12 2019-09-01          6.0                    19\n",
       "13 2019-10-01          1.0                   656\n",
       "14 2019-10-01          2.0                   617\n",
       "15 2019-10-01          3.0                   444\n",
       "16 2019-10-01          4.0                     1"
      ]
     },
     "execution_count": 48,
     "metadata": {},
     "output_type": "execute_result"
    }
   ],
   "source": [
    "cohort_data = data2.groupby(['mincreated', 'CohortIndex'])['USER'].apply(pd.Series.nunique).reset_index()\n",
    "cohort_data['churn_number_of_user']=cohort_data['USER']\n",
    "cohort_data1=cohort_data[['mincreated','CohortIndex','churn_number_of_user']]\n",
    "cohort_data1"
   ]
  },
  {
   "cell_type": "code",
   "execution_count": 51,
   "metadata": {},
   "outputs": [
    {
     "data": {
      "text/html": [
       "<div>\n",
       "<style>\n",
       "    .dataframe thead tr:only-child th {\n",
       "        text-align: right;\n",
       "    }\n",
       "\n",
       "    .dataframe thead th {\n",
       "        text-align: left;\n",
       "    }\n",
       "\n",
       "    .dataframe tbody tr th {\n",
       "        vertical-align: top;\n",
       "    }\n",
       "</style>\n",
       "<table border=\"1\" class=\"dataframe\">\n",
       "  <thead>\n",
       "    <tr style=\"text-align: right;\">\n",
       "      <th></th>\n",
       "      <th>mincreated</th>\n",
       "      <th>CohortIndex</th>\n",
       "      <th>churn_number_of_user</th>\n",
       "      <th>createdmonth</th>\n",
       "      <th>createduser</th>\n",
       "    </tr>\n",
       "  </thead>\n",
       "  <tbody>\n",
       "    <tr>\n",
       "      <th>0</th>\n",
       "      <td>2019-08-01</td>\n",
       "      <td>1.0</td>\n",
       "      <td>0.0</td>\n",
       "      <td>8</td>\n",
       "      <td>5853</td>\n",
       "    </tr>\n",
       "    <tr>\n",
       "      <th>1</th>\n",
       "      <td>2019-08-01</td>\n",
       "      <td>2.0</td>\n",
       "      <td>675.0</td>\n",
       "      <td>8</td>\n",
       "      <td>5853</td>\n",
       "    </tr>\n",
       "    <tr>\n",
       "      <th>2</th>\n",
       "      <td>2019-08-01</td>\n",
       "      <td>3.0</td>\n",
       "      <td>266.0</td>\n",
       "      <td>8</td>\n",
       "      <td>5853</td>\n",
       "    </tr>\n",
       "    <tr>\n",
       "      <th>3</th>\n",
       "      <td>2019-08-01</td>\n",
       "      <td>4.0</td>\n",
       "      <td>954.0</td>\n",
       "      <td>8</td>\n",
       "      <td>5853</td>\n",
       "    </tr>\n",
       "    <tr>\n",
       "      <th>4</th>\n",
       "      <td>2019-08-01</td>\n",
       "      <td>5.0</td>\n",
       "      <td>1408.0</td>\n",
       "      <td>8</td>\n",
       "      <td>5853</td>\n",
       "    </tr>\n",
       "  </tbody>\n",
       "</table>\n",
       "</div>"
      ],
      "text/plain": [
       "  mincreated  CohortIndex  churn_number_of_user  createdmonth  createduser\n",
       "0 2019-08-01          1.0                   0.0             8         5853\n",
       "1 2019-08-01          2.0                 675.0             8         5853\n",
       "2 2019-08-01          3.0                 266.0             8         5853\n",
       "3 2019-08-01          4.0                 954.0             8         5853\n",
       "4 2019-08-01          5.0                1408.0             8         5853"
      ]
     },
     "execution_count": 51,
     "metadata": {},
     "output_type": "execute_result"
    }
   ],
   "source": [
    "cohort2= pd.merge(cohort_data1,dfnew,left_on='mincreated',right_on='mincreated', how='inner')\n",
    "cohort2['churn_number_of_user']=cohort2.groupby('mincreated').churn_number_of_user.shift(1)\n",
    "cohort2.loc[cohort2.CohortIndex==1.0, 'churn_number_of_user'] = 0\n",
    "cohort2.head()"
   ]
  },
  {
   "cell_type": "code",
   "execution_count": 52,
   "metadata": {},
   "outputs": [
    {
     "data": {
      "text/html": [
       "<div>\n",
       "<style>\n",
       "    .dataframe thead tr:only-child th {\n",
       "        text-align: right;\n",
       "    }\n",
       "\n",
       "    .dataframe thead th {\n",
       "        text-align: left;\n",
       "    }\n",
       "\n",
       "    .dataframe tbody tr th {\n",
       "        vertical-align: top;\n",
       "    }\n",
       "</style>\n",
       "<table border=\"1\" class=\"dataframe\">\n",
       "  <thead>\n",
       "    <tr style=\"text-align: right;\">\n",
       "      <th></th>\n",
       "      <th>mincreated</th>\n",
       "      <th>CohortIndex</th>\n",
       "      <th>churn_number_of_user</th>\n",
       "      <th>createdmonth</th>\n",
       "      <th>createduser</th>\n",
       "      <th>churntotal</th>\n",
       "      <th>rentation</th>\n",
       "      <th>rentationrate</th>\n",
       "    </tr>\n",
       "  </thead>\n",
       "  <tbody>\n",
       "    <tr>\n",
       "      <th>0</th>\n",
       "      <td>2019-08-01</td>\n",
       "      <td>1.0</td>\n",
       "      <td>0.0</td>\n",
       "      <td>8</td>\n",
       "      <td>5853</td>\n",
       "      <td>0.0</td>\n",
       "      <td>5853.0</td>\n",
       "      <td>1.000000</td>\n",
       "    </tr>\n",
       "    <tr>\n",
       "      <th>1</th>\n",
       "      <td>2019-08-01</td>\n",
       "      <td>2.0</td>\n",
       "      <td>675.0</td>\n",
       "      <td>8</td>\n",
       "      <td>5853</td>\n",
       "      <td>675.0</td>\n",
       "      <td>5178.0</td>\n",
       "      <td>0.884675</td>\n",
       "    </tr>\n",
       "    <tr>\n",
       "      <th>2</th>\n",
       "      <td>2019-08-01</td>\n",
       "      <td>3.0</td>\n",
       "      <td>266.0</td>\n",
       "      <td>8</td>\n",
       "      <td>5853</td>\n",
       "      <td>941.0</td>\n",
       "      <td>4912.0</td>\n",
       "      <td>0.839228</td>\n",
       "    </tr>\n",
       "    <tr>\n",
       "      <th>3</th>\n",
       "      <td>2019-08-01</td>\n",
       "      <td>4.0</td>\n",
       "      <td>954.0</td>\n",
       "      <td>8</td>\n",
       "      <td>5853</td>\n",
       "      <td>1895.0</td>\n",
       "      <td>3958.0</td>\n",
       "      <td>0.676234</td>\n",
       "    </tr>\n",
       "    <tr>\n",
       "      <th>4</th>\n",
       "      <td>2019-08-01</td>\n",
       "      <td>5.0</td>\n",
       "      <td>1408.0</td>\n",
       "      <td>8</td>\n",
       "      <td>5853</td>\n",
       "      <td>3303.0</td>\n",
       "      <td>2550.0</td>\n",
       "      <td>0.435674</td>\n",
       "    </tr>\n",
       "    <tr>\n",
       "      <th>5</th>\n",
       "      <td>2019-08-01</td>\n",
       "      <td>6.0</td>\n",
       "      <td>1873.0</td>\n",
       "      <td>8</td>\n",
       "      <td>5853</td>\n",
       "      <td>5176.0</td>\n",
       "      <td>677.0</td>\n",
       "      <td>0.115667</td>\n",
       "    </tr>\n",
       "    <tr>\n",
       "      <th>7</th>\n",
       "      <td>2019-09-01</td>\n",
       "      <td>1.0</td>\n",
       "      <td>0.0</td>\n",
       "      <td>9</td>\n",
       "      <td>2464</td>\n",
       "      <td>0.0</td>\n",
       "      <td>2464.0</td>\n",
       "      <td>1.000000</td>\n",
       "    </tr>\n",
       "    <tr>\n",
       "      <th>8</th>\n",
       "      <td>2019-09-01</td>\n",
       "      <td>2.0</td>\n",
       "      <td>474.0</td>\n",
       "      <td>9</td>\n",
       "      <td>2464</td>\n",
       "      <td>474.0</td>\n",
       "      <td>1990.0</td>\n",
       "      <td>0.807630</td>\n",
       "    </tr>\n",
       "    <tr>\n",
       "      <th>9</th>\n",
       "      <td>2019-09-01</td>\n",
       "      <td>3.0</td>\n",
       "      <td>326.0</td>\n",
       "      <td>9</td>\n",
       "      <td>2464</td>\n",
       "      <td>800.0</td>\n",
       "      <td>1664.0</td>\n",
       "      <td>0.675325</td>\n",
       "    </tr>\n",
       "    <tr>\n",
       "      <th>10</th>\n",
       "      <td>2019-09-01</td>\n",
       "      <td>4.0</td>\n",
       "      <td>596.0</td>\n",
       "      <td>9</td>\n",
       "      <td>2464</td>\n",
       "      <td>1396.0</td>\n",
       "      <td>1068.0</td>\n",
       "      <td>0.433442</td>\n",
       "    </tr>\n",
       "    <tr>\n",
       "      <th>11</th>\n",
       "      <td>2019-09-01</td>\n",
       "      <td>5.0</td>\n",
       "      <td>957.0</td>\n",
       "      <td>9</td>\n",
       "      <td>2464</td>\n",
       "      <td>2353.0</td>\n",
       "      <td>111.0</td>\n",
       "      <td>0.045049</td>\n",
       "    </tr>\n",
       "    <tr>\n",
       "      <th>12</th>\n",
       "      <td>2019-09-01</td>\n",
       "      <td>6.0</td>\n",
       "      <td>92.0</td>\n",
       "      <td>9</td>\n",
       "      <td>2464</td>\n",
       "      <td>2445.0</td>\n",
       "      <td>19.0</td>\n",
       "      <td>0.007711</td>\n",
       "    </tr>\n",
       "    <tr>\n",
       "      <th>13</th>\n",
       "      <td>2019-10-01</td>\n",
       "      <td>1.0</td>\n",
       "      <td>0.0</td>\n",
       "      <td>10</td>\n",
       "      <td>1718</td>\n",
       "      <td>0.0</td>\n",
       "      <td>1718.0</td>\n",
       "      <td>1.000000</td>\n",
       "    </tr>\n",
       "    <tr>\n",
       "      <th>14</th>\n",
       "      <td>2019-10-01</td>\n",
       "      <td>2.0</td>\n",
       "      <td>656.0</td>\n",
       "      <td>10</td>\n",
       "      <td>1718</td>\n",
       "      <td>656.0</td>\n",
       "      <td>1062.0</td>\n",
       "      <td>0.618161</td>\n",
       "    </tr>\n",
       "    <tr>\n",
       "      <th>15</th>\n",
       "      <td>2019-10-01</td>\n",
       "      <td>3.0</td>\n",
       "      <td>617.0</td>\n",
       "      <td>10</td>\n",
       "      <td>1718</td>\n",
       "      <td>1273.0</td>\n",
       "      <td>445.0</td>\n",
       "      <td>0.259022</td>\n",
       "    </tr>\n",
       "    <tr>\n",
       "      <th>16</th>\n",
       "      <td>2019-10-01</td>\n",
       "      <td>4.0</td>\n",
       "      <td>444.0</td>\n",
       "      <td>10</td>\n",
       "      <td>1718</td>\n",
       "      <td>1717.0</td>\n",
       "      <td>1.0</td>\n",
       "      <td>0.000582</td>\n",
       "    </tr>\n",
       "  </tbody>\n",
       "</table>\n",
       "</div>"
      ],
      "text/plain": [
       "   mincreated  CohortIndex  churn_number_of_user  createdmonth  createduser  \\\n",
       "0  2019-08-01          1.0                   0.0             8         5853   \n",
       "1  2019-08-01          2.0                 675.0             8         5853   \n",
       "2  2019-08-01          3.0                 266.0             8         5853   \n",
       "3  2019-08-01          4.0                 954.0             8         5853   \n",
       "4  2019-08-01          5.0                1408.0             8         5853   \n",
       "5  2019-08-01          6.0                1873.0             8         5853   \n",
       "7  2019-09-01          1.0                   0.0             9         2464   \n",
       "8  2019-09-01          2.0                 474.0             9         2464   \n",
       "9  2019-09-01          3.0                 326.0             9         2464   \n",
       "10 2019-09-01          4.0                 596.0             9         2464   \n",
       "11 2019-09-01          5.0                 957.0             9         2464   \n",
       "12 2019-09-01          6.0                  92.0             9         2464   \n",
       "13 2019-10-01          1.0                   0.0            10         1718   \n",
       "14 2019-10-01          2.0                 656.0            10         1718   \n",
       "15 2019-10-01          3.0                 617.0            10         1718   \n",
       "16 2019-10-01          4.0                 444.0            10         1718   \n",
       "\n",
       "    churntotal  rentation  rentationrate  \n",
       "0          0.0     5853.0       1.000000  \n",
       "1        675.0     5178.0       0.884675  \n",
       "2        941.0     4912.0       0.839228  \n",
       "3       1895.0     3958.0       0.676234  \n",
       "4       3303.0     2550.0       0.435674  \n",
       "5       5176.0      677.0       0.115667  \n",
       "7          0.0     2464.0       1.000000  \n",
       "8        474.0     1990.0       0.807630  \n",
       "9        800.0     1664.0       0.675325  \n",
       "10      1396.0     1068.0       0.433442  \n",
       "11      2353.0      111.0       0.045049  \n",
       "12      2445.0       19.0       0.007711  \n",
       "13         0.0     1718.0       1.000000  \n",
       "14       656.0     1062.0       0.618161  \n",
       "15      1273.0      445.0       0.259022  \n",
       "16      1717.0        1.0       0.000582  "
      ]
     },
     "execution_count": 52,
     "metadata": {},
     "output_type": "execute_result"
    }
   ],
   "source": [
    "cohort2['churntotal']=cohort2.groupby(['mincreated']).churn_number_of_user.cumsum()\n",
    "cohort2['rentation']=cohort2['createduser']-cohort2['churntotal']\n",
    "cohort2=cohort2[cohort2['CohortIndex']<cohort2.CohortIndex.max()]\n",
    "cohort2['rentationrate']=(cohort2['createduser']-cohort2['churntotal'])/cohort2['createduser']\n",
    "cohort2"
   ]
  },
  {
   "cell_type": "code",
   "execution_count": 53,
   "metadata": {},
   "outputs": [
    {
     "data": {
      "text/html": [
       "<div>\n",
       "<style>\n",
       "    .dataframe thead tr:only-child th {\n",
       "        text-align: right;\n",
       "    }\n",
       "\n",
       "    .dataframe thead th {\n",
       "        text-align: left;\n",
       "    }\n",
       "\n",
       "    .dataframe tbody tr th {\n",
       "        vertical-align: top;\n",
       "    }\n",
       "</style>\n",
       "<table border=\"1\" class=\"dataframe\">\n",
       "  <thead>\n",
       "    <tr style=\"text-align: right;\">\n",
       "      <th>CohortIndex</th>\n",
       "      <th>1.0</th>\n",
       "      <th>2.0</th>\n",
       "      <th>3.0</th>\n",
       "      <th>4.0</th>\n",
       "      <th>5.0</th>\n",
       "      <th>6.0</th>\n",
       "    </tr>\n",
       "    <tr>\n",
       "      <th>mincreated</th>\n",
       "      <th></th>\n",
       "      <th></th>\n",
       "      <th></th>\n",
       "      <th></th>\n",
       "      <th></th>\n",
       "      <th></th>\n",
       "    </tr>\n",
       "  </thead>\n",
       "  <tbody>\n",
       "    <tr>\n",
       "      <th>2019-08-01</th>\n",
       "      <td>5853.0</td>\n",
       "      <td>5178.0</td>\n",
       "      <td>4912.0</td>\n",
       "      <td>3958.0</td>\n",
       "      <td>2550.0</td>\n",
       "      <td>677.0</td>\n",
       "    </tr>\n",
       "    <tr>\n",
       "      <th>2019-09-01</th>\n",
       "      <td>2464.0</td>\n",
       "      <td>1990.0</td>\n",
       "      <td>1664.0</td>\n",
       "      <td>1068.0</td>\n",
       "      <td>111.0</td>\n",
       "      <td>19.0</td>\n",
       "    </tr>\n",
       "    <tr>\n",
       "      <th>2019-10-01</th>\n",
       "      <td>1718.0</td>\n",
       "      <td>1062.0</td>\n",
       "      <td>445.0</td>\n",
       "      <td>1.0</td>\n",
       "      <td>NaN</td>\n",
       "      <td>NaN</td>\n",
       "    </tr>\n",
       "  </tbody>\n",
       "</table>\n",
       "</div>"
      ],
      "text/plain": [
       "CohortIndex     1.0     2.0     3.0     4.0     5.0    6.0\n",
       "mincreated                                                \n",
       "2019-08-01   5853.0  5178.0  4912.0  3958.0  2550.0  677.0\n",
       "2019-09-01   2464.0  1990.0  1664.0  1068.0   111.0   19.0\n",
       "2019-10-01   1718.0  1062.0   445.0     1.0     NaN    NaN"
      ]
     },
     "execution_count": 53,
     "metadata": {},
     "output_type": "execute_result"
    }
   ],
   "source": [
    "cohort_count = cohort2.pivot_table(index = 'mincreated',\n",
    "                                       columns = 'CohortIndex',\n",
    "                                       values = 'rentation')\n",
    "cohort_count"
   ]
  },
  {
   "cell_type": "code",
   "execution_count": 220,
   "metadata": {},
   "outputs": [
    {
     "data": {
      "image/png": "[encoded data removed]",
      "text/plain": [
       "<matplotlib.figure.Figure at 0x2194fcf5828>"
      ]
     },
     "metadata": {},
     "output_type": "display_data"
    }
   ],
   "source": [
    "plt.figure(figsize = (6,2))\n",
    "plt.title('Cohort Analysis - Retention User')\n",
    "sns.heatmap(data = cohort_count, \n",
    "            annot = True, \n",
    "            fmt='',\n",
    "            vmin = 0.0,\n",
    "            vmax = 0.5,\n",
    "            cmap = \"YlGnBu\")\n",
    "plt.show()"
   ]
  },
  {
   "cell_type": "markdown",
   "metadata": {},
   "source": [
    "\n",
    "From the result above, the first column in the chart is active user number on that specific month, and the following columns show how the many remaining users are still using the service on the second and third month. The 7th column and 2019–08–1 row means 677 users out of 5853 users were still engaged with the web after the 6 months from 2019–08–1."
   ]
  },
  {
   "cell_type": "code",
   "execution_count": 54,
   "metadata": {},
   "outputs": [
    {
     "data": {
      "text/html": [
       "<div>\n",
       "<style>\n",
       "    .dataframe thead tr:only-child th {\n",
       "        text-align: right;\n",
       "    }\n",
       "\n",
       "    .dataframe thead th {\n",
       "        text-align: left;\n",
       "    }\n",
       "\n",
       "    .dataframe tbody tr th {\n",
       "        vertical-align: top;\n",
       "    }\n",
       "</style>\n",
       "<table border=\"1\" class=\"dataframe\">\n",
       "  <thead>\n",
       "    <tr style=\"text-align: right;\">\n",
       "      <th>CohortIndex</th>\n",
       "      <th>1.0</th>\n",
       "      <th>2.0</th>\n",
       "      <th>3.0</th>\n",
       "      <th>4.0</th>\n",
       "      <th>5.0</th>\n",
       "      <th>6.0</th>\n",
       "    </tr>\n",
       "    <tr>\n",
       "      <th>mincreated</th>\n",
       "      <th></th>\n",
       "      <th></th>\n",
       "      <th></th>\n",
       "      <th></th>\n",
       "      <th></th>\n",
       "      <th></th>\n",
       "    </tr>\n",
       "  </thead>\n",
       "  <tbody>\n",
       "    <tr>\n",
       "      <th>2019-08-01</th>\n",
       "      <td>1.0</td>\n",
       "      <td>0.884675</td>\n",
       "      <td>0.839228</td>\n",
       "      <td>0.676234</td>\n",
       "      <td>0.435674</td>\n",
       "      <td>0.115667</td>\n",
       "    </tr>\n",
       "    <tr>\n",
       "      <th>2019-09-01</th>\n",
       "      <td>1.0</td>\n",
       "      <td>0.807630</td>\n",
       "      <td>0.675325</td>\n",
       "      <td>0.433442</td>\n",
       "      <td>0.045049</td>\n",
       "      <td>0.007711</td>\n",
       "    </tr>\n",
       "    <tr>\n",
       "      <th>2019-10-01</th>\n",
       "      <td>1.0</td>\n",
       "      <td>0.618161</td>\n",
       "      <td>0.259022</td>\n",
       "      <td>0.000582</td>\n",
       "      <td>NaN</td>\n",
       "      <td>NaN</td>\n",
       "    </tr>\n",
       "  </tbody>\n",
       "</table>\n",
       "</div>"
      ],
      "text/plain": [
       "CohortIndex  1.0       2.0       3.0       4.0       5.0       6.0\n",
       "mincreated                                                        \n",
       "2019-08-01   1.0  0.884675  0.839228  0.676234  0.435674  0.115667\n",
       "2019-09-01   1.0  0.807630  0.675325  0.433442  0.045049  0.007711\n",
       "2019-10-01   1.0  0.618161  0.259022  0.000582       NaN       NaN"
      ]
     },
     "execution_count": 54,
     "metadata": {},
     "output_type": "execute_result"
    }
   ],
   "source": [
    "cohort_rentationrate = cohort2.pivot_table(index = 'mincreated',\n",
    "                                       columns = 'CohortIndex',\n",
    "                                       values = 'rentationrate')\n",
    "cohort_rentationrate"
   ]
  },
  {
   "cell_type": "code",
   "execution_count": 55,
   "metadata": {},
   "outputs": [
    {
     "data": {
      "image/png": "[encoded data removed]",
      "text/plain": [
       "<matplotlib.figure.Figure at 0x2194f4e7080>"
      ]
     },
     "metadata": {},
     "output_type": "display_data"
    }
   ],
   "source": [
    "plt.figure(figsize = (6,2))\n",
    "plt.title('Cohort Analysis - Retention Rate')\n",
    "sns.heatmap(data = cohort_rentationrate, \n",
    "            annot = True, \n",
    "            fmt = '.0%', \n",
    "            vmin = 0.0,\n",
    "            vmax = 0.5,\n",
    "            cmap = \"YlGnBu\")\n",
    "plt.show()"
   ]
  },
  {
   "cell_type": "markdown",
   "metadata": {},
   "source": [
    "### File lifespan Analysis\n"
   ]
  },
  {
   "cell_type": "code",
   "execution_count": 56,
   "metadata": {},
   "outputs": [
    {
     "data": {
      "text/plain": [
       "28338"
      ]
     },
     "execution_count": 56,
     "metadata": {},
     "output_type": "execute_result"
    }
   ],
   "source": [
    "filtered_df = data3[data3['DELETED'].notnull()]\n",
    "filtered_df.head()\n",
    "len(filtered_df)"
   ]
  },
  {
   "cell_type": "code",
   "execution_count": 57,
   "metadata": {},
   "outputs": [
    {
     "data": {
      "text/html": [
       "<div>\n",
       "<style>\n",
       "    .dataframe thead tr:only-child th {\n",
       "        text-align: right;\n",
       "    }\n",
       "\n",
       "    .dataframe thead th {\n",
       "        text-align: left;\n",
       "    }\n",
       "\n",
       "    .dataframe tbody tr th {\n",
       "        vertical-align: top;\n",
       "    }\n",
       "</style>\n",
       "<table border=\"1\" class=\"dataframe\">\n",
       "  <thead>\n",
       "    <tr style=\"text-align: right;\">\n",
       "      <th></th>\n",
       "      <th>USER</th>\n",
       "      <th>CREATED</th>\n",
       "      <th>UPDATED</th>\n",
       "      <th>DELETED</th>\n",
       "      <th>VERSION</th>\n",
       "      <th>filespan</th>\n",
       "      <th>averageupdatedday</th>\n",
       "    </tr>\n",
       "  </thead>\n",
       "  <tbody>\n",
       "    <tr>\n",
       "      <th>0</th>\n",
       "      <td>3633870</td>\n",
       "      <td>2019-08-01</td>\n",
       "      <td>2019-08-14</td>\n",
       "      <td>NaN</td>\n",
       "      <td>26.0</td>\n",
       "      <td>13</td>\n",
       "      <td>0.500000</td>\n",
       "    </tr>\n",
       "    <tr>\n",
       "      <th>1</th>\n",
       "      <td>2853751</td>\n",
       "      <td>2019-08-01</td>\n",
       "      <td>2019-11-19</td>\n",
       "      <td>2019-11-19</td>\n",
       "      <td>26.0</td>\n",
       "      <td>110</td>\n",
       "      <td>4.230769</td>\n",
       "    </tr>\n",
       "    <tr>\n",
       "      <th>2</th>\n",
       "      <td>2538826</td>\n",
       "      <td>2019-08-01</td>\n",
       "      <td>2019-09-28</td>\n",
       "      <td>NaN</td>\n",
       "      <td>2.0</td>\n",
       "      <td>58</td>\n",
       "      <td>29.000000</td>\n",
       "    </tr>\n",
       "    <tr>\n",
       "      <th>3</th>\n",
       "      <td>1642941</td>\n",
       "      <td>2019-08-01</td>\n",
       "      <td>2019-12-05</td>\n",
       "      <td>NaN</td>\n",
       "      <td>5.0</td>\n",
       "      <td>126</td>\n",
       "      <td>25.200000</td>\n",
       "    </tr>\n",
       "    <tr>\n",
       "      <th>4</th>\n",
       "      <td>3635605</td>\n",
       "      <td>2019-08-01</td>\n",
       "      <td>2019-10-13</td>\n",
       "      <td>2019-10-13</td>\n",
       "      <td>1.0</td>\n",
       "      <td>73</td>\n",
       "      <td>73.000000</td>\n",
       "    </tr>\n",
       "  </tbody>\n",
       "</table>\n",
       "</div>"
      ],
      "text/plain": [
       "      USER    CREATED    UPDATED     DELETED  VERSION  filespan  \\\n",
       "0  3633870 2019-08-01 2019-08-14         NaN     26.0        13   \n",
       "1  2853751 2019-08-01 2019-11-19  2019-11-19     26.0       110   \n",
       "2  2538826 2019-08-01 2019-09-28         NaN      2.0        58   \n",
       "3  1642941 2019-08-01 2019-12-05         NaN      5.0       126   \n",
       "4  3635605 2019-08-01 2019-10-13  2019-10-13      1.0        73   \n",
       "\n",
       "   averageupdatedday  \n",
       "0           0.500000  \n",
       "1           4.230769  \n",
       "2          29.000000  \n",
       "3          25.200000  \n",
       "4          73.000000  "
      ]
     },
     "execution_count": 57,
     "metadata": {},
     "output_type": "execute_result"
    }
   ],
   "source": [
    "data3.head()"
   ]
  },
  {
   "cell_type": "code",
   "execution_count": 72,
   "metadata": {},
   "outputs": [
    {
     "data": {
      "image/png": "[encoded data removed]",
      "text/plain": [
       "<matplotlib.figure.Figure at 0x2194f8ea400>"
      ]
     },
     "metadata": {},
     "output_type": "display_data"
    }
   ],
   "source": [
    "plt.figure(figsize = (12,6))\n",
    "sns.distplot(filtered_df['filespan'],hist=False,bins=10)\n",
    "plt.xlabel('Updated days')\n",
    "plt.ylabel('Percentage of updated files')\n",
    "plt.title('Distribution of file updated span ')\n",
    "plt.show()"
   ]
  },
  {
   "cell_type": "markdown",
   "metadata": {},
   "source": [
    "\n",
    "To analyze the lifespan of files, I only consider records that the DELETE column is not null."
   ]
  },
  {
   "cell_type": "code",
   "execution_count": 229,
   "metadata": {},
   "outputs": [
    {
     "data": {
      "text/plain": [
       "26.733714447032252"
      ]
     },
     "execution_count": 229,
     "metadata": {},
     "output_type": "execute_result"
    }
   ],
   "source": [
    "filtered_df.filespan.sum()/len(filtered_df)"
   ]
  },
  {
   "cell_type": "markdown",
   "metadata": {},
   "source": [
    "### File updated Analysis"
   ]
  },
  {
   "cell_type": "markdown",
   "metadata": {},
   "source": [
    "Here, I selected the rows that updated at least 1 time after creating to analyze the updated file."
   ]
  },
  {
   "cell_type": "code",
   "execution_count": 59,
   "metadata": {},
   "outputs": [
    {
     "data": {
      "text/plain": [
       "74436"
      ]
     },
     "execution_count": 59,
     "metadata": {},
     "output_type": "execute_result"
    }
   ],
   "source": [
    "len(data3[data3['VERSION']>1])"
   ]
  },
  {
   "cell_type": "code",
   "execution_count": 60,
   "metadata": {},
   "outputs": [
    {
     "data": {
      "text/html": [
       "<div>\n",
       "<style>\n",
       "    .dataframe thead tr:only-child th {\n",
       "        text-align: right;\n",
       "    }\n",
       "\n",
       "    .dataframe thead th {\n",
       "        text-align: left;\n",
       "    }\n",
       "\n",
       "    .dataframe tbody tr th {\n",
       "        vertical-align: top;\n",
       "    }\n",
       "</style>\n",
       "<table border=\"1\" class=\"dataframe\">\n",
       "  <thead>\n",
       "    <tr style=\"text-align: right;\">\n",
       "      <th></th>\n",
       "      <th>USER</th>\n",
       "      <th>CREATED</th>\n",
       "      <th>UPDATED</th>\n",
       "      <th>DELETED</th>\n",
       "      <th>VERSION</th>\n",
       "      <th>filespan</th>\n",
       "      <th>averageupdatedday</th>\n",
       "    </tr>\n",
       "  </thead>\n",
       "  <tbody>\n",
       "    <tr>\n",
       "      <th>0</th>\n",
       "      <td>3633870</td>\n",
       "      <td>2019-08-01</td>\n",
       "      <td>2019-08-14</td>\n",
       "      <td>NaN</td>\n",
       "      <td>26.0</td>\n",
       "      <td>13</td>\n",
       "      <td>0.500000</td>\n",
       "    </tr>\n",
       "    <tr>\n",
       "      <th>1</th>\n",
       "      <td>2853751</td>\n",
       "      <td>2019-08-01</td>\n",
       "      <td>2019-11-19</td>\n",
       "      <td>2019-11-19</td>\n",
       "      <td>26.0</td>\n",
       "      <td>110</td>\n",
       "      <td>4.230769</td>\n",
       "    </tr>\n",
       "    <tr>\n",
       "      <th>2</th>\n",
       "      <td>2538826</td>\n",
       "      <td>2019-08-01</td>\n",
       "      <td>2019-09-28</td>\n",
       "      <td>NaN</td>\n",
       "      <td>2.0</td>\n",
       "      <td>58</td>\n",
       "      <td>29.000000</td>\n",
       "    </tr>\n",
       "    <tr>\n",
       "      <th>3</th>\n",
       "      <td>1642941</td>\n",
       "      <td>2019-08-01</td>\n",
       "      <td>2019-12-05</td>\n",
       "      <td>NaN</td>\n",
       "      <td>5.0</td>\n",
       "      <td>126</td>\n",
       "      <td>25.200000</td>\n",
       "    </tr>\n",
       "    <tr>\n",
       "      <th>5</th>\n",
       "      <td>268126</td>\n",
       "      <td>2019-08-01</td>\n",
       "      <td>2019-11-08</td>\n",
       "      <td>2019-11-08</td>\n",
       "      <td>49.0</td>\n",
       "      <td>99</td>\n",
       "      <td>2.020408</td>\n",
       "    </tr>\n",
       "  </tbody>\n",
       "</table>\n",
       "</div>"
      ],
      "text/plain": [
       "      USER    CREATED    UPDATED     DELETED  VERSION  filespan  \\\n",
       "0  3633870 2019-08-01 2019-08-14         NaN     26.0        13   \n",
       "1  2853751 2019-08-01 2019-11-19  2019-11-19     26.0       110   \n",
       "2  2538826 2019-08-01 2019-09-28         NaN      2.0        58   \n",
       "3  1642941 2019-08-01 2019-12-05         NaN      5.0       126   \n",
       "5   268126 2019-08-01 2019-11-08  2019-11-08     49.0        99   \n",
       "\n",
       "   averageupdatedday  \n",
       "0           0.500000  \n",
       "1           4.230769  \n",
       "2          29.000000  \n",
       "3          25.200000  \n",
       "5           2.020408  "
      ]
     },
     "execution_count": 60,
     "metadata": {},
     "output_type": "execute_result"
    }
   ],
   "source": [
    "data4=data3[data3['VERSION']>1]\n",
    "data4.head()"
   ]
  },
  {
   "cell_type": "code",
   "execution_count": 73,
   "metadata": {},
   "outputs": [
    {
     "data": {
      "image/png": "[encoded data removed]",
      "text/plain": [
       "<matplotlib.figure.Figure at 0x2194f91e0b8>"
      ]
     },
     "metadata": {},
     "output_type": "display_data"
    }
   ],
   "source": [
    "plt.figure(figsize = (12,6))\n",
    "sns.distplot(data4['VERSION'],hist=False,bins=10)\n",
    "plt.xlabel('VERSION')\n",
    "plt.ylabel('Percentage of version')\n",
    "plt.title('Distribution of file update VERSION')\n",
    "plt.show()"
   ]
  },
  {
   "cell_type": "code",
   "execution_count": 74,
   "metadata": {},
   "outputs": [
    {
     "data": {
      "image/png": "[encoded data removed]",
      "text/plain": [
       "<matplotlib.figure.Figure at 0x2194f92f898>"
      ]
     },
     "metadata": {},
     "output_type": "display_data"
    }
   ],
   "source": [
    "plt.figure(figsize = (12,6))\n",
    "data4['UPDATED'].hist(bins=24,color='orange')\n",
    "plt.xlabel('Updated time')\n",
    "plt.ylabel('Numbers')\n",
    "plt.title('Histgram of of file update period')\n",
    "plt.show()"
   ]
  },
  {
   "cell_type": "markdown",
   "metadata": {},
   "source": [
    "# Predictive Analysis-Moving average forecasting"
   ]
  },
  {
   "cell_type": "markdown",
   "metadata": {},
   "source": [
    "#### Select one single user which has the most VERSION times."
   ]
  },
  {
   "cell_type": "code",
   "execution_count": 79,
   "metadata": {},
   "outputs": [
    {
     "data": {
      "text/plain": [
       "USER\n",
       "2585131    11529.0\n",
       "3419865     6984.0\n",
       "1357498     6421.0\n",
       "3297596     6113.0\n",
       "3282991     6038.0\n",
       "Name: VERSION, dtype: float64"
      ]
     },
     "execution_count": 79,
     "metadata": {},
     "output_type": "execute_result"
    }
   ],
   "source": [
    "s1=data2.groupby(['USER']).VERSION.sum().sort_values(ascending=False)\n",
    "s1.head()"
   ]
  },
  {
   "cell_type": "markdown",
   "metadata": {},
   "source": [
    "Here, the user who has most file version number is '2585131'."
   ]
  },
  {
   "cell_type": "code",
   "execution_count": 200,
   "metadata": {},
   "outputs": [
    {
     "data": {
      "text/html": [
       "<div>\n",
       "<style>\n",
       "    .dataframe thead tr:only-child th {\n",
       "        text-align: right;\n",
       "    }\n",
       "\n",
       "    .dataframe thead th {\n",
       "        text-align: left;\n",
       "    }\n",
       "\n",
       "    .dataframe tbody tr th {\n",
       "        vertical-align: top;\n",
       "    }\n",
       "</style>\n",
       "<table border=\"1\" class=\"dataframe\">\n",
       "  <thead>\n",
       "    <tr style=\"text-align: right;\">\n",
       "      <th></th>\n",
       "      <th>FILE_ID</th>\n",
       "      <th>USER</th>\n",
       "      <th>CREATED</th>\n",
       "      <th>UPDATED</th>\n",
       "      <th>DELETED</th>\n",
       "      <th>VERSION</th>\n",
       "      <th>CREATEDweek</th>\n",
       "      <th>UPDATEDmonth</th>\n",
       "      <th>maxupdate</th>\n",
       "      <th>mincreated</th>\n",
       "      <th>CohortIndex</th>\n",
       "      <th>filespan</th>\n",
       "      <th>averageupdatedday</th>\n",
       "    </tr>\n",
       "  </thead>\n",
       "  <tbody>\n",
       "    <tr>\n",
       "      <th>57</th>\n",
       "      <td>rrT5030</td>\n",
       "      <td>2585131</td>\n",
       "      <td>2019-08-01</td>\n",
       "      <td>2019-09-22</td>\n",
       "      <td>NaN</td>\n",
       "      <td>2.0</td>\n",
       "      <td>2019-08-01</td>\n",
       "      <td>2019-09-01</td>\n",
       "      <td>2020-01-01</td>\n",
       "      <td>2019-08-01</td>\n",
       "      <td>6.0</td>\n",
       "      <td>52</td>\n",
       "      <td>26.00000</td>\n",
       "    </tr>\n",
       "    <tr>\n",
       "      <th>85</th>\n",
       "      <td>rrT8165</td>\n",
       "      <td>2585131</td>\n",
       "      <td>2019-08-01</td>\n",
       "      <td>2019-09-22</td>\n",
       "      <td>NaN</td>\n",
       "      <td>2.0</td>\n",
       "      <td>2019-08-01</td>\n",
       "      <td>2019-09-01</td>\n",
       "      <td>2020-01-01</td>\n",
       "      <td>2019-08-01</td>\n",
       "      <td>6.0</td>\n",
       "      <td>52</td>\n",
       "      <td>26.00000</td>\n",
       "    </tr>\n",
       "    <tr>\n",
       "      <th>104</th>\n",
       "      <td>rrT9820</td>\n",
       "      <td>2585131</td>\n",
       "      <td>2019-08-01</td>\n",
       "      <td>2019-08-01</td>\n",
       "      <td>NaN</td>\n",
       "      <td>1.0</td>\n",
       "      <td>2019-08-01</td>\n",
       "      <td>2019-08-01</td>\n",
       "      <td>2020-01-01</td>\n",
       "      <td>2019-08-01</td>\n",
       "      <td>6.0</td>\n",
       "      <td>0</td>\n",
       "      <td>0.00000</td>\n",
       "    </tr>\n",
       "    <tr>\n",
       "      <th>105</th>\n",
       "      <td>rrT9925</td>\n",
       "      <td>2585131</td>\n",
       "      <td>2019-08-01</td>\n",
       "      <td>2019-10-07</td>\n",
       "      <td>NaN</td>\n",
       "      <td>43.0</td>\n",
       "      <td>2019-08-01</td>\n",
       "      <td>2019-10-01</td>\n",
       "      <td>2020-01-01</td>\n",
       "      <td>2019-08-01</td>\n",
       "      <td>6.0</td>\n",
       "      <td>67</td>\n",
       "      <td>1.55814</td>\n",
       "    </tr>\n",
       "    <tr>\n",
       "      <th>313</th>\n",
       "      <td>KLp2620</td>\n",
       "      <td>2585131</td>\n",
       "      <td>2019-08-01</td>\n",
       "      <td>2019-08-01</td>\n",
       "      <td>NaN</td>\n",
       "      <td>1.0</td>\n",
       "      <td>2019-08-01</td>\n",
       "      <td>2019-08-01</td>\n",
       "      <td>2020-01-01</td>\n",
       "      <td>2019-08-01</td>\n",
       "      <td>6.0</td>\n",
       "      <td>0</td>\n",
       "      <td>0.00000</td>\n",
       "    </tr>\n",
       "  </tbody>\n",
       "</table>\n",
       "</div>"
      ],
      "text/plain": [
       "     FILE_ID     USER    CREATED    UPDATED DELETED  VERSION CREATEDweek  \\\n",
       "57   rrT5030  2585131 2019-08-01 2019-09-22     NaN      2.0  2019-08-01   \n",
       "85   rrT8165  2585131 2019-08-01 2019-09-22     NaN      2.0  2019-08-01   \n",
       "104  rrT9820  2585131 2019-08-01 2019-08-01     NaN      1.0  2019-08-01   \n",
       "105  rrT9925  2585131 2019-08-01 2019-10-07     NaN     43.0  2019-08-01   \n",
       "313  KLp2620  2585131 2019-08-01 2019-08-01     NaN      1.0  2019-08-01   \n",
       "\n",
       "    UPDATEDmonth  maxupdate mincreated  CohortIndex  filespan  \\\n",
       "57    2019-09-01 2020-01-01 2019-08-01          6.0        52   \n",
       "85    2019-09-01 2020-01-01 2019-08-01          6.0        52   \n",
       "104   2019-08-01 2020-01-01 2019-08-01          6.0         0   \n",
       "105   2019-10-01 2020-01-01 2019-08-01          6.0        67   \n",
       "313   2019-08-01 2020-01-01 2019-08-01          6.0         0   \n",
       "\n",
       "     averageupdatedday  \n",
       "57            26.00000  \n",
       "85            26.00000  \n",
       "104            0.00000  \n",
       "105            1.55814  \n",
       "313            0.00000  "
      ]
     },
     "execution_count": 200,
     "metadata": {},
     "output_type": "execute_result"
    }
   ],
   "source": [
    "dataselected1=data2[data2['USER']=='2585131']\n",
    "dataselected1.head()"
   ]
  },
  {
   "cell_type": "code",
   "execution_count": 201,
   "metadata": {},
   "outputs": [],
   "source": [
    "#dataselected1.describe()"
   ]
  },
  {
   "cell_type": "code",
   "execution_count": 253,
   "metadata": {},
   "outputs": [
    {
     "data": {
      "text/html": [
       "<div>\n",
       "<style>\n",
       "    .dataframe thead tr:only-child th {\n",
       "        text-align: right;\n",
       "    }\n",
       "\n",
       "    .dataframe thead th {\n",
       "        text-align: left;\n",
       "    }\n",
       "\n",
       "    .dataframe tbody tr th {\n",
       "        vertical-align: top;\n",
       "    }\n",
       "</style>\n",
       "<table border=\"1\" class=\"dataframe\">\n",
       "  <thead>\n",
       "    <tr style=\"text-align: right;\">\n",
       "      <th></th>\n",
       "      <th>CREATED</th>\n",
       "      <th>averageupdatedday</th>\n",
       "    </tr>\n",
       "  </thead>\n",
       "  <tbody>\n",
       "    <tr>\n",
       "      <th>57</th>\n",
       "      <td>2019-08-01</td>\n",
       "      <td>26.0</td>\n",
       "    </tr>\n",
       "  </tbody>\n",
       "</table>\n",
       "</div>"
      ],
      "text/plain": [
       "      CREATED  averageupdatedday\n",
       "57 2019-08-01               26.0"
      ]
     },
     "execution_count": 253,
     "metadata": {},
     "output_type": "execute_result"
    }
   ],
   "source": [
    "d2=dataselected1[['CREATED','averageupdatedday']]\n",
    "d2.head(1)"
   ]
  },
  {
   "cell_type": "code",
   "execution_count": 254,
   "metadata": {},
   "outputs": [
    {
     "name": "stderr",
     "output_type": "stream",
     "text": [
      "C:\\Users\\wenfe\\Anaconda3\\lib\\site-packages\\ipykernel_launcher.py:1: SettingWithCopyWarning: \n",
      "A value is trying to be set on a copy of a slice from a DataFrame.\n",
      "Try using .loc[row_indexer,col_indexer] = value instead\n",
      "\n",
      "See the caveats in the documentation: http://pandas.pydata.org/pandas-docs/stable/indexing.html#indexing-view-versus-copy\n",
      "  \"\"\"Entry point for launching an IPython kernel.\n",
      "C:\\Users\\wenfe\\Anaconda3\\lib\\site-packages\\ipykernel_launcher.py:2: SettingWithCopyWarning: \n",
      "A value is trying to be set on a copy of a slice from a DataFrame.\n",
      "Try using .loc[row_indexer,col_indexer] = value instead\n",
      "\n",
      "See the caveats in the documentation: http://pandas.pydata.org/pandas-docs/stable/indexing.html#indexing-view-versus-copy\n",
      "  \n",
      "C:\\Users\\wenfe\\Anaconda3\\lib\\site-packages\\ipykernel_launcher.py:3: SettingWithCopyWarning: \n",
      "A value is trying to be set on a copy of a slice from a DataFrame.\n",
      "Try using .loc[row_indexer,col_indexer] = value instead\n",
      "\n",
      "See the caveats in the documentation: http://pandas.pydata.org/pandas-docs/stable/indexing.html#indexing-view-versus-copy\n",
      "  This is separate from the ipykernel package so we can avoid doing imports until\n",
      "C:\\Users\\wenfe\\Anaconda3\\lib\\site-packages\\ipykernel_launcher.py:4: SettingWithCopyWarning: \n",
      "A value is trying to be set on a copy of a slice from a DataFrame.\n",
      "Try using .loc[row_indexer,col_indexer] = value instead\n",
      "\n",
      "See the caveats in the documentation: http://pandas.pydata.org/pandas-docs/stable/indexing.html#indexing-view-versus-copy\n",
      "  after removing the cwd from sys.path.\n"
     ]
    }
   ],
   "source": [
    "d2['03d-SMA']=d2['averageupdatedday'].rolling(window=3).mean()\n",
    "d2['06d-SMA']=d2['averageupdatedday'].rolling(window=6).mean()\n",
    "d2['09d-SMA']=d2['averageupdatedday'].rolling(window=9).mean()\n",
    "d2['12d-SMA']=d2['averageupdatedday'].rolling(window=12).mean()"
   ]
  },
  {
   "cell_type": "code",
   "execution_count": 255,
   "metadata": {},
   "outputs": [
    {
     "data": {
      "image/png": "[encoded data removed]",
      "text/plain": [
       "<matplotlib.figure.Figure at 0x2194fc7f9b0>"
      ]
     },
     "metadata": {},
     "output_type": "display_data"
    }
   ],
   "source": [
    "fig = plt.figure(figsize=(14,8))\n",
    "ax = fig.add_subplot(111)\n",
    "ax.plot(d2.CREATED,d2['averageupdatedday'],color='black',label='averageupdatedday')\n",
    "ax.plot(d2.CREATED,d2['03d-SMA'],color='green',label='03d-SMA')\n",
    "ax.plot(d2.CREATED,d2['06d-SMA'],color='orange',label='06d-SMA')\n",
    "ax.plot(d2.CREATED,d2['09d-SMA'],color='blue',label='09d-SMA')\n",
    "#ax.plot(d2.CREATED,d2['12d-SMA'],color='cyan',label='12d-SMA')\n",
    "plt.show()"
   ]
  },
  {
   "cell_type": "markdown",
   "metadata": {},
   "source": [
    "\n",
    "From the above part, I found that the green line is more close to real data, so we pick d2['03d-SMA'] to predict."
   ]
  },
  {
   "cell_type": "code",
   "execution_count": 265,
   "metadata": {},
   "outputs": [
    {
     "data": {
      "text/plain": [
       "3.2076719576719483"
      ]
     },
     "execution_count": 265,
     "metadata": {},
     "output_type": "execute_result"
    }
   ],
   "source": [
    "predict=d2.tail(3)['03d-SMA'].sum()/len(d2.tail(3))\n",
    "predict"
   ]
  },
  {
   "cell_type": "markdown",
   "metadata": {},
   "source": [
    "Therefore, the USER(2585131) will update file in 3.2 days after the creation. "
   ]
  },
  {
   "cell_type": "markdown",
   "metadata": {},
   "source": [
    "# Conclusion"
   ]
  },
  {
   "cell_type": "markdown",
   "metadata": {},
   "source": [
    "•\tThe number of new user is decreasing(Aug 5853, Sep 2464, Oct 1718), the number of created file is declined.\n",
    "\n",
    "•\tUser generated highest number of files from August 10 to 14.\n",
    "\n",
    "•\tTop 10 user created files(727 to 772) between 2019-08-01 and 2019-10-31.\n",
    "\n",
    "•\tThe average number of files created per user is 10.18 files.\n",
    "\n",
    "•\tTo analyze the lifespan of files, I only consider records that the DELETE column is not null. I found that the average           lifespan of a file is around 27 days.\n",
    "\n",
    "•\tThe VERSION column provide some insights about engagement, and I use the value of VERSION to predict how soon the specific       user will update after creation the file.\n",
    "\n",
    "•\tThe USER(2585131) will update file in 3.2 days after the creation. \n",
    "\n"
   ]
  },
  {
   "cell_type": "markdown",
   "metadata": {},
   "source": [
    "# Suggestions"
   ]
  },
  {
   "cell_type": "markdown",
   "metadata": {},
   "source": [
    "•\tAttract more new user.\n",
    "\n",
    "•\tImprove the user engagemnt.\n",
    "\n",
    "•\tFind the reasons that User generated highest number of files from August 10 to 14.\n",
    "\n",
    "•\tCollect more useful feature which may include:.\n",
    "\n",
    "        1) the updated time when the file was updated\n",
    "   \n",
    "        2) the upload file time\n",
    "   \n",
    "        3) the time of user working on the file\n",
    "   \n",
    "        4) the user's information\n",
    "   \n",
    "        5) the kind of browser"
   ]
  },
  {
   "cell_type": "code",
   "execution_count": null,
   "metadata": {},
   "outputs": [],
   "source": []
  },
  {
   "cell_type": "code",
   "execution_count": null,
   "metadata": {},
   "outputs": [],
   "source": []
  }
 ],
 "metadata": {
  "anaconda-cloud": {},
  "kernelspec": {
   "display_name": "Python 3",
   "language": "python",
   "name": "python3"
  },
  "language_info": {
   "codemirror_mode": {
    "name": "ipython",
    "version": 3
   },
   "file_extension": ".py",
   "mimetype": "text/x-python",
   "name": "python",
   "nbconvert_exporter": "python",
   "pygments_lexer": "ipython3",
   "version": "3.6.3"
  }
 },
 "nbformat": 4,
 "nbformat_minor": 1
}
